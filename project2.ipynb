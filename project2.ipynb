{
 "cells": [
  {
   "cell_type": "markdown",
   "id": "8281b6f8",
   "metadata": {},
   "source": [
    "# Machine Learning in Python - Project 2\n",
    "\n",
    "Due Friday, Apr 11th by 4 pm.\n",
    "\n",
    "*Include contributors names in notebook metadata or here*"
   ]
  },
  {
   "cell_type": "markdown",
   "id": "821233d2",
   "metadata": {},
   "source": [
    "## Setup\n",
    "\n",
    "*Install any packages here, define any functions if neeed, and load data*"
   ]
  },
  {
   "cell_type": "code",
   "execution_count": 89,
   "id": "7e1ba94a",
   "metadata": {},
   "outputs": [],
   "source": [
    "# Add any additional libraries or submodules below\n",
    "\n",
    "# Data libraries\n",
    "import pandas as pd\n",
    "import numpy as np\n",
    "\n",
    "# Plotting libraries\n",
    "import matplotlib.pyplot as plt\n",
    "import seaborn as sns\n",
    "\n",
    "# Plotting defaults\n",
    "plt.rcParams['figure.figsize'] = (8,5)\n",
    "plt.rcParams['figure.dpi'] = 80\n",
    "\n",
    "\n",
    "# sklearn modules\n",
    "import sklearn\n",
    "from sklearn.linear_model import LogisticRegression\n",
    "from sklearn.preprocessing import StandardScaler # scaling features\n",
    "from sklearn.pipeline import make_pipeline           # combining classifier steps\n",
    "from sklearn.compose import ColumnTransformer\n",
    "from sklearn.preprocessing import OneHotEncoder\n",
    "from sklearn.preprocessing import LabelEncoder\n",
    "\n",
    "from sklearn.model_selection import train_test_split\n",
    "from sklearn.metrics import ConfusionMatrixDisplay\n",
    "from sklearn.metrics import accuracy_score, precision_score, f1_score, recall_score"
   ]
  },
  {
   "cell_type": "code",
   "execution_count": 91,
   "id": "62abe5f5",
   "metadata": {},
   "outputs": [
    {
     "name": "stderr",
     "output_type": "stream",
     "text": [
      "/Users/oscaryoungman/opt/anaconda3/lib/python3.9/site-packages/IPython/core/interactiveshell.py:3444: DtypeWarning: Columns (26,28) have mixed types.Specify dtype option on import or set low_memory=False.\n",
      "  exec(code_obj, self.user_global_ns, self.user_ns)\n"
     ]
    }
   ],
   "source": [
    "# Load data in easyshare.csv\n",
    "d = pd.read_csv(\"freddiemac.csv\")\n",
    "d['flag_sc'] = d['flag_sc'].fillna('N')\n",
    "d['rr_ind'] = d['rr_ind'].fillna('N')\n",
    "d.drop(columns=['id_loan_rr', 'id_loan'])\n",
    "d = d[d['fico'] != 9999] # removed missing credit scores for now but perhaps we should reconsider\n",
    "d = d[d['mi_pct'] != 999]\n",
    "d = d[d['cltv'] != 999]\n",
    "d = d[d['property_val'] != 9]\n",
    "\n"
   ]
  },
  {
   "cell_type": "code",
   "execution_count": 47,
   "id": "7b307793",
   "metadata": {},
   "outputs": [
    {
     "data": {
      "text/html": [
       "<div>\n",
       "<style scoped>\n",
       "    .dataframe tbody tr th:only-of-type {\n",
       "        vertical-align: middle;\n",
       "    }\n",
       "\n",
       "    .dataframe tbody tr th {\n",
       "        vertical-align: top;\n",
       "    }\n",
       "\n",
       "    .dataframe thead th {\n",
       "        text-align: right;\n",
       "    }\n",
       "</style>\n",
       "<table border=\"1\" class=\"dataframe\">\n",
       "  <thead>\n",
       "    <tr style=\"text-align: right;\">\n",
       "      <th></th>\n",
       "      <th>fico</th>\n",
       "      <th>dt_first_pi</th>\n",
       "      <th>flag_fthb</th>\n",
       "      <th>dt_matr</th>\n",
       "      <th>cd_msa</th>\n",
       "      <th>mi_pct</th>\n",
       "      <th>cnt_units</th>\n",
       "      <th>occpy_sts</th>\n",
       "      <th>cltv</th>\n",
       "      <th>dti</th>\n",
       "      <th>...</th>\n",
       "      <th>seller_name</th>\n",
       "      <th>servicer_name</th>\n",
       "      <th>flag_sc</th>\n",
       "      <th>id_loan_rr</th>\n",
       "      <th>program_ind</th>\n",
       "      <th>rr_ind</th>\n",
       "      <th>property_val</th>\n",
       "      <th>io_ind</th>\n",
       "      <th>mi_cancel_ind</th>\n",
       "      <th>loan_status</th>\n",
       "    </tr>\n",
       "  </thead>\n",
       "  <tbody>\n",
       "    <tr>\n",
       "      <th>0</th>\n",
       "      <td>809</td>\n",
       "      <td>201705</td>\n",
       "      <td>N</td>\n",
       "      <td>204704</td>\n",
       "      <td>NaN</td>\n",
       "      <td>0</td>\n",
       "      <td>1</td>\n",
       "      <td>P</td>\n",
       "      <td>75</td>\n",
       "      <td>38</td>\n",
       "      <td>...</td>\n",
       "      <td>Other sellers</td>\n",
       "      <td>SPECIALIZED LOAN SERVICING LLC</td>\n",
       "      <td>N</td>\n",
       "      <td>NaN</td>\n",
       "      <td>9</td>\n",
       "      <td>N</td>\n",
       "      <td>2</td>\n",
       "      <td>N</td>\n",
       "      <td>7</td>\n",
       "      <td>prepaid</td>\n",
       "    </tr>\n",
       "    <tr>\n",
       "      <th>1</th>\n",
       "      <td>702</td>\n",
       "      <td>201703</td>\n",
       "      <td>N</td>\n",
       "      <td>203202</td>\n",
       "      <td>NaN</td>\n",
       "      <td>0</td>\n",
       "      <td>1</td>\n",
       "      <td>P</td>\n",
       "      <td>80</td>\n",
       "      <td>36</td>\n",
       "      <td>...</td>\n",
       "      <td>Other sellers</td>\n",
       "      <td>Other servicers</td>\n",
       "      <td>N</td>\n",
       "      <td>NaN</td>\n",
       "      <td>9</td>\n",
       "      <td>N</td>\n",
       "      <td>2</td>\n",
       "      <td>N</td>\n",
       "      <td>7</td>\n",
       "      <td>active</td>\n",
       "    </tr>\n",
       "    <tr>\n",
       "      <th>2</th>\n",
       "      <td>792</td>\n",
       "      <td>201703</td>\n",
       "      <td>N</td>\n",
       "      <td>204702</td>\n",
       "      <td>NaN</td>\n",
       "      <td>0</td>\n",
       "      <td>1</td>\n",
       "      <td>S</td>\n",
       "      <td>60</td>\n",
       "      <td>36</td>\n",
       "      <td>...</td>\n",
       "      <td>Other sellers</td>\n",
       "      <td>Other servicers</td>\n",
       "      <td>N</td>\n",
       "      <td>NaN</td>\n",
       "      <td>9</td>\n",
       "      <td>N</td>\n",
       "      <td>2</td>\n",
       "      <td>N</td>\n",
       "      <td>7</td>\n",
       "      <td>prepaid</td>\n",
       "    </tr>\n",
       "    <tr>\n",
       "      <th>3</th>\n",
       "      <td>776</td>\n",
       "      <td>201703</td>\n",
       "      <td>N</td>\n",
       "      <td>204702</td>\n",
       "      <td>NaN</td>\n",
       "      <td>0</td>\n",
       "      <td>1</td>\n",
       "      <td>S</td>\n",
       "      <td>80</td>\n",
       "      <td>18</td>\n",
       "      <td>...</td>\n",
       "      <td>Other sellers</td>\n",
       "      <td>Other servicers</td>\n",
       "      <td>N</td>\n",
       "      <td>NaN</td>\n",
       "      <td>9</td>\n",
       "      <td>N</td>\n",
       "      <td>2</td>\n",
       "      <td>N</td>\n",
       "      <td>7</td>\n",
       "      <td>prepaid</td>\n",
       "    </tr>\n",
       "    <tr>\n",
       "      <th>4</th>\n",
       "      <td>790</td>\n",
       "      <td>201703</td>\n",
       "      <td>N</td>\n",
       "      <td>204702</td>\n",
       "      <td>41620.0</td>\n",
       "      <td>0</td>\n",
       "      <td>1</td>\n",
       "      <td>I</td>\n",
       "      <td>75</td>\n",
       "      <td>42</td>\n",
       "      <td>...</td>\n",
       "      <td>Other sellers</td>\n",
       "      <td>PNC BANK, NA</td>\n",
       "      <td>N</td>\n",
       "      <td>NaN</td>\n",
       "      <td>9</td>\n",
       "      <td>N</td>\n",
       "      <td>2</td>\n",
       "      <td>N</td>\n",
       "      <td>7</td>\n",
       "      <td>active</td>\n",
       "    </tr>\n",
       "  </tbody>\n",
       "</table>\n",
       "<p>5 rows × 33 columns</p>\n",
       "</div>"
      ],
      "text/plain": [
       "   fico  dt_first_pi flag_fthb  dt_matr   cd_msa  mi_pct  cnt_units occpy_sts  \\\n",
       "0   809       201705         N   204704      NaN       0          1         P   \n",
       "1   702       201703         N   203202      NaN       0          1         P   \n",
       "2   792       201703         N   204702      NaN       0          1         S   \n",
       "3   776       201703         N   204702      NaN       0          1         S   \n",
       "4   790       201703         N   204702  41620.0       0          1         I   \n",
       "\n",
       "   cltv  dti  ...    seller_name                   servicer_name  flag_sc  \\\n",
       "0    75   38  ...  Other sellers  SPECIALIZED LOAN SERVICING LLC        N   \n",
       "1    80   36  ...  Other sellers                 Other servicers        N   \n",
       "2    60   36  ...  Other sellers                 Other servicers        N   \n",
       "3    80   18  ...  Other sellers                 Other servicers        N   \n",
       "4    75   42  ...  Other sellers                    PNC BANK, NA        N   \n",
       "\n",
       "  id_loan_rr program_ind rr_ind property_val io_ind  mi_cancel_ind loan_status  \n",
       "0        NaN           9      N            2      N              7     prepaid  \n",
       "1        NaN           9      N            2      N              7      active  \n",
       "2        NaN           9      N            2      N              7     prepaid  \n",
       "3        NaN           9      N            2      N              7     prepaid  \n",
       "4        NaN           9      N            2      N              7      active  \n",
       "\n",
       "[5 rows x 33 columns]"
      ]
     },
     "execution_count": 47,
     "metadata": {},
     "output_type": "execute_result"
    }
   ],
   "source": [
    "d.head()\n"
   ]
  },
  {
   "cell_type": "markdown",
   "id": "886d036b",
   "metadata": {},
   "source": [
    "### Null Values\n",
    "\n",
    "The data includes approximately 20,000 Null values for the **cd_msa** information. Despite this, there is no missing information on **zipcode**. **Fill in missing data**. **Comment on the number of defaulters in this subset of the data, suggesting that people who live outside MSAs are perhaps more likely to default on loans.**\n",
    "\n",
    "\n",
    "The remaining features that contain null values are **flag_sc**, and **rr_ind**, however these are categorical variables that take NaN to refer to 'No'. All NaN entries have been replaced with 'N'.\n",
    "\n",
    "\n",
    "### Missing Data\n",
    "\n",
    "There are 41 missing Credit Scores in the dataset. Out of these, 3 loans were defaults. Since the dataset does not contain many defaults, we do not want to exclude this information. **How do we deal with this?** Only one observation is not available for the Mortgage Insurance Percentage and given this loan was not a default, we will exclude it from the data set. **Check if any other information in this observation might be important**. There are 6 missing observations for combined loan-to-value, and 2 of these are the missing values for loan-to-value, which occurs when the loanee has no other loans. None of these loans were defaults, so they have been excluded.\n",
    "\n",
    "There are 2,412 missing values for the debt-to-income ratio, and more notably, a disproportinal number of these observations are loans that have defaulted. When debt-to-income ratio is greater than 65%, it is classified as a missing value. These are loans where the monthly debt payments are greater than 65% of monthly income of the loanee suggesting that they are higher-risk loans. **How do we deal with this?**\n",
    "\n",
    "We interpret the value of 9 for the program indicator as Not Applicable meaning that the loan is not part of a program. There could be missing data embedded within this, however since this category acts as a baseline associated to no programs, then this assumption does not lose any information.\n",
    "\n",
    "There are 125 values missing for property value. None of these are defaults, so they have been excluded.\n",
    "\n",
    "\n",
    "\n",
    "\n",
    "\n"
   ]
  },
  {
   "cell_type": "markdown",
   "id": "1a86c2e2",
   "metadata": {},
   "source": [
    "### Unbalanced data\n",
    "\n",
    "We do some first analysis of the categorical variables, checking visually if each feature is balanced across the data and also using value counts to identify features that are constantly valued that we can discard for our analysis. We will not consider active loans because we are doing a classification task and there is no way to train our model on data without any output.\n",
    "\n",
    "The categorical variables **ppmt_pnlty** and **io_ind** have the same value across the dataset and should be removed from consideration in any model. There are no prepayment penalty mortgages or finite-length mortgages in the dataset.\n",
    "\n",
    "What is an acceptable level of inbalanace in the data? Should we combine any of the low-frequency data points as in e.g **cnt_borr**?\n"
   ]
  },
  {
   "cell_type": "code",
   "execution_count": null,
   "id": "81665bc7",
   "metadata": {},
   "outputs": [
    {
     "name": "stdout",
     "output_type": "stream",
     "text": [
      "1    66000\n",
      "2    59854\n",
      "3      641\n",
      "4       89\n",
      "5        1\n",
      "Name: cnt_borr, dtype: int64 1    124209\n",
      "2      1688\n",
      "3       367\n",
      "4       321\n",
      "Name: cnt_units, dtype: int64 SF    77757\n",
      "PU    37490\n",
      "CO    10807\n",
      "MH      384\n",
      "CP      147\n",
      "Name: prop_type, dtype: int64\n"
     ]
    },
    {
     "data": {
      "image/png": "[encoded data removed]",
      "text/plain": [
       "<Figure size 1280x480 with 3 Axes>"
      ]
     },
     "metadata": {
      "needs_background": "light"
     },
     "output_type": "display_data"
    },
    {
     "data": {
      "image/png": "[encoded data removed]",
      "text/plain": [
       "<Figure size 1280x480 with 9 Axes>"
      ]
     },
     "metadata": {
      "needs_background": "light"
     },
     "output_type": "display_data"
    }
   ],
   "source": [
    "#Visualisation of the spread of categorical variables \n",
    "output_var = [\"loan_status\"]\n",
    "cat_var=[\"flag_fthb\", \"cnt_units\", \"occpy_sts\", \"channel\", \"ppmt_pnlty\", \"prop_type\", \"loan_purpose\", \"cnt_borr\", \"flag_sc\", \"program_ind\", \"rr_ind\", \"property_val\", \"io_ind\", \"mi_cancel_ind\"]\n",
    "locations =[\"cd_msa\", \"zipcode\"]\n",
    "loan_providers = [\"seller_name\", \"servicer_name\"]\n",
    "\n",
    "\n",
    "unbalanced_cat_var = [\"cnt_units\", \"occpy_sts\", \"prop_type\", \"cnt_borr\", \"program_ind\", \"property_val\", \"mi_cancel_ind\", \"flag_sc\", \"rr_ind\"]\n",
    "#Constant valued \n",
    "sing_val = [\"ppmt_pnlty\", \"io_ind\"]\n",
    "balanced_cat_var =cat_var\n",
    "for i in unbalanced_cat_var:\n",
    "    balanced_cat_var.remove(i)\n",
    "for i in sing_val:\n",
    "    balanced_cat_var.remove(i)\n",
    "\n",
    "fig, ax = plt.subplots(1,3, figsize = (16,6))\n",
    "\n",
    "for i,var in enumerate(balanced_cat_var):\n",
    "    sns.histplot(data=df, x= var, ax = ax[i])\n",
    "\n",
    "fig, ax = plt.subplots(3,3, figsize = (16,6))\n",
    "\n",
    "for i,var in enumerate(unbalanced_cat_var):\n",
    "    sns.histplot(data=df, x= var, ax = ax[i//3, i%3])\n",
    "    \n",
    "print(df[\"cnt_borr\"].value_counts(),df[\"cnt_units\"].value_counts(),df[\"prop_type\"].value_counts())\n"
   ]
  },
  {
   "cell_type": "markdown",
   "id": "28603fe7",
   "metadata": {},
   "source": [
    "# Introduction\n",
    "\n",
    "*This section should include a brief introduction to the task and the data (assume this is a report you are delivering to a professional body (e.g. Freddie Mac).*\n",
    "\n",
    "*Briefly outline the approaches being used and the conclusions that you are able to draw.*"
   ]
  },
  {
   "cell_type": "markdown",
   "id": "af4bc461",
   "metadata": {},
   "source": [
    "# Exploratory Data Analysis and Feature Engineering\n",
    "\n",
    "*Include a detailed discussion of the data with a particular emphasis on the features of the data that are relevant for the subsequent modeling. Including visualizations of the data is strongly encouraged - all code and plots must also be described in the write up. Think carefully about whether each plot needs to be included in your final draft and the appropriate type of plot and summary for each variable type - your report should include figures but they should be as focused and impactful as possible.*\n",
    "\n",
    "*You should also split your data into training and testing sets, ideally before you look to much into the features and relationships with the target*\n",
    "\n",
    "*Additionally, this section should also motivate and describe any preprocessing / feature engineering of the data. Specifically, this should be any code that you use to generate new columns in the data frame `d`. Pipelines should be used and feature engineering steps that are be performed as part of an sklearn pipeline can be mentioned here but should be implemented in the following section.*\n",
    "\n",
    "*All code and figures should be accompanied by text that provides an overview / context to what is being done or presented.*"
   ]
  },
  {
   "cell_type": "markdown",
   "id": "7bc9fe39",
   "metadata": {},
   "source": [
    "# Model Fitting and Tuning\n",
    "\n",
    "*In this section you should detail and motivate your choice of model and describe the process used to refine, tune, and fit that model. You are encouraged to explore different models but you should NOT include a detailed narrative or code of all of these attempts. At most this section should briefly mention the methods explored and why they were rejected - most of your effort should go into describing the final model you are using and your process for tuning and validating it.*\n",
    "\n",
    "*This section should include the full implementation of your final model, including all necessary validation. As with figures, any included code must also be addressed in the text of the document.*\n",
    "\n",
    "*Finally, you should also provide a comparison of your model with a baseline model of your choice on the test data but only briefly describe the baseline model considered.*"
   ]
  },
  {
   "cell_type": "markdown",
   "id": "4d1fe4b3",
   "metadata": {},
   "source": [
    "### Baseline logistic regression model \n",
    "\n",
    "First attempt: Basic model using only credit score and 2 categorical variables gives no true positives.\n"
   ]
  },
  {
   "cell_type": "code",
   "execution_count": 103,
   "id": "bf49cb9b",
   "metadata": {},
   "outputs": [
    {
     "name": "stdout",
     "output_type": "stream",
     "text": [
      "Accuracy on the test data: 0.9940753614029544\n"
     ]
    },
    {
     "data": {
      "image/png": "[encoded data removed]",
      "text/plain": [
       "<Figure size 640x400 with 2 Axes>"
      ]
     },
     "metadata": {
      "needs_background": "light"
     },
     "output_type": "display_data"
    }
   ],
   "source": [
    "# We exclude active loans\n",
    "df = d[d[\"loan_status\"] != 'active']\n",
    "\n",
    "# Feature matrix and response vector\n",
    "X, y = df.drop([\"loan_status\"], axis=1), df[\"loan_status\"]\n",
    "\n",
    "# Convert to numpy array\n",
    "X = X.values\n",
    "\n",
    "# Binary encoding of response vector\n",
    "y = LabelEncoder().fit_transform(y)\n",
    "\n",
    "# Stratify split of test and train data\n",
    "X_train, X_test, y_train, y_test = train_test_split(X, y, shuffle= True, stratify=y,\n",
    "                                                    test_size = 0.1, random_state=212)\n",
    "\n",
    "# Get the index of the variables we will include\n",
    "num_var = [\"fico\",\"dt_first_pi\",\"mi_pct\",\"orig_upb\",\"ltv\",\"int_rt\",\"dt_matr\",\"cltv\",\"dti\"]\n",
    "num_var_index = []\n",
    "for i in num_var:\n",
    "    num_var_index.append(d.columns.get_loc(i))\n",
    "\n",
    "\n",
    "cat_var=[\"seller_name\", \"servicer_name\",\"flag_fthb\", \"cnt_units\", \"occpy_sts\", \"channel\", \"prop_type\", \"loan_purpose\", \"cnt_borr\", \"flag_sc\", \"program_ind\", \"rr_ind\", \"property_val\", \"mi_cancel_ind\"]\n",
    "cat_var_index = []\n",
    "for i in cat_var:\n",
    "    cat_var_index.append(d.columns.get_loc(i))\n",
    "\n",
    "\n",
    "# Pipeline\n",
    "log_pipe = make_pipeline(\n",
    "    ColumnTransformer(\n",
    "        [(\"cat\", OneHotEncoder(drop = 'first'),cat_var_index),\n",
    "         (\"num\", StandardScaler(), num_var_index)]\n",
    "    ),\n",
    "    LogisticRegression(random_state=42, penalty=None)\n",
    "\n",
    ")\n",
    "\n",
    "# Fit the model using the training data\n",
    "log_pipe.fit(X_train, y_train)\n",
    "\n",
    "# accuracy on the test data\n",
    "print('Accuracy on the test data:', log_pipe.score(X_test,y_test))\n",
    "\n",
    "\n",
    "ConfusionMatrixDisplay.from_estimator(log_pipe, X_test, y_test)\n",
    "plt.show()\n",
    "\n"
   ]
  },
  {
   "cell_type": "markdown",
   "id": "308a9c84",
   "metadata": {},
   "source": [
    "# Discussion & Conclusions\n",
    "\n",
    "*In this section you should provide a general overview of your final model, its performance, and reliability. You should discuss what the implications of your model are in terms of the included features, estimated parameters and relationships, predictive performance, and anything else you think is relevant.*\n",
    "\n",
    "*This should be written with a target audience of a banking official, who is understands the issues associated with mortgage defaults but may only have university level mathematics (not necessarily postgraduate statistics or machine learning). Your goal should be to highlight to this audience how your model can useful. You should also discuss potential limitations or directions of future improvement of your model.*\n",
    "\n",
    "*Finally, you should include recommendations on factors that may increase the risk of default, which may be useful for the companies to improve their understanding of\n",
    "mortgage defaults, and also to explain their decisions to clients and regulatory bodies. You should also use your model to inform the company of any active loans that are at risk of default.*\n",
    "\n",
    "*Keep in mind that a negative result, i.e. a model that does not work well predictively, that is well explained and justified in terms of why it failed will likely receive higher marks than a model with strong predictive performance but with poor or incorrect explinations / justifications.*"
   ]
  },
  {
   "cell_type": "markdown",
   "id": "ebb8539f",
   "metadata": {},
   "source": [
    "# Generative AI statement\n",
    "\n",
    "*Include a statement on how generative AI was used in the project and report.*"
   ]
  },
  {
   "cell_type": "markdown",
   "id": "09db6349",
   "metadata": {},
   "source": [
    "# References\n",
    "\n",
    "*Include references if any*"
   ]
  },
  {
   "cell_type": "code",
   "execution_count": null,
   "id": "0e3625a7",
   "metadata": {},
   "outputs": [],
   "source": [
    "# Run the following to render to PDF\n",
    "!jupyter nbconvert --to pdf project2.ipynb"
   ]
  }
 ],
 "metadata": {
  "kernelspec": {
   "display_name": "base",
   "language": "python",
   "name": "python3"
  },
  "language_info": {
   "codemirror_mode": {
    "name": "ipython",
    "version": 3
   },
   "file_extension": ".py",
   "mimetype": "text/x-python",
   "name": "python",
   "nbconvert_exporter": "python",
   "pygments_lexer": "ipython3",
   "version": "3.9.7"
  }
 },
 "nbformat": 4,
 "nbformat_minor": 5
}
