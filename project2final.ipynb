{
 "cells": [
  {
   "cell_type": "markdown",
   "id": "8281b6f8",
   "metadata": {},
   "source": [
    "# Machine Learning in Python - Project 2\n",
    "\n",
    "Alfie Plant, Markus Emmott, Oscar Youngman, Ashe Raymond-Barker"
   ]
  },
  {
   "cell_type": "markdown",
   "id": "821233d2",
   "metadata": {},
   "source": [
    "## Setup\n",
    "\n",
    "*Install any packages here, define any functions if neeed, and load data*"
   ]
  },
  {
   "cell_type": "code",
   "execution_count": 26,
   "id": "7e1ba94a",
   "metadata": {},
   "outputs": [],
   "source": [
    "# Add any additional libraries or submodules below\n",
    "\n",
    "# Data libraries\n",
    "import pandas as pd\n",
    "import numpy as np\n",
    "\n",
    "# Plotting libraries\n",
    "import matplotlib.pyplot as plt\n",
    "import seaborn as sns\n",
    "\n",
    "# Plotting defaults\n",
    "plt.rcParams['figure.figsize'] = (8,5)\n",
    "plt.rcParams['figure.dpi'] = 80\n",
    "\n",
    "# sklearn modules\n",
    "import sklearn\n",
    "from sklearn.linear_model import LogisticRegression\n",
    "from sklearn.svm import SVC  \n",
    "from sklearn.svm import LinearSVC\n",
    "from sklearn.preprocessing import StandardScaler\n",
    "from sklearn.pipeline import make_pipeline\n",
    "from sklearn.compose import ColumnTransformer\n",
    "from sklearn.pipeline import Pipeline\n",
    "from sklearn.preprocessing import OneHotEncoder\n",
    "from sklearn.preprocessing import LabelEncoder\n",
    "from sklearn.preprocessing import Binarizer\n",
    "from sklearn.preprocessing import KBinsDiscretizer\n",
    "from sklearn.preprocessing import PolynomialFeatures\n",
    "from sklearn.model_selection import GridSearchCV, KFold, StratifiedKFold\n",
    "from sklearn.ensemble import BaggingClassifier\n",
    "\n",
    "from sklearn.model_selection import train_test_split\n",
    "from sklearn.metrics import ConfusionMatrixDisplay\n",
    "from sklearn.metrics import accuracy_score, precision_score, f1_score, recall_score\n",
    "from sklearn.metrics import RocCurveDisplay, roc_auc_score\n",
    "from sklearn.metrics import PrecisionRecallDisplay\n",
    "\n",
    "# EDA plotter functions\n",
    "from helper import *\n",
    "\n",
    "from imblearn.over_sampling import RandomOverSampler, SMOTE"
   ]
  },
  {
   "cell_type": "markdown",
   "id": "28603fe7",
   "metadata": {},
   "source": [
    "# Introduction\n",
    "\n",
    "Brief discussion of problem and approaches used\n",
    "\n",
    "### Data Overview\n",
    "\n",
    "The dataset consists of 200,000 fully amortizing fixed-rate Single-Family mortgages. Of these, 125,959 have been paid off, 73,295 are still active, and 746 have defaulted. There are $32$ features, which can be categorised as follows:\n",
    "\n",
    " - **Personal Details:**\n",
    "    - **fico** (Numeric): Borrower's credit score\n",
    "    - **dti** (Numeric): Ratio value of borrower(s) monthly debt payments to total monthly income\n",
    "    - **cnt_borr** (Categorical): Whether one of multiple borrowers are obligated to pay the mortgage: One borrower (1), Multiple borrowers (2)\n",
    "    - **cltv** (Numeric): Ratio value of all combined loans of Borrower(s) to value of property\n",
    "    - **ltv** (Numeric): Ratio value of mortgage loan of Borrower(s) to value of property\n",
    "  \n",
    "- **Loan Details:**\n",
    "    - **dt_first_pi** (Numeric): First payment date of mortgage (YYYYMM)\n",
    "    - **dt_matr** (Numeric): Final payment date of mortgage (YYYYMM)\n",
    "    - **mi_pct** (Numeric): Percentage of loss coverage on the loan insurance plan, where 0 indicates no insurance\n",
    "    - **orig_upb** (Numeric): Unpaid balance of mortgage to the nearest $1,000\n",
    "    - **int_rt** (Numeric): Interest rate of loan\n",
    "    - **channel** (Categorical): Indicates whether Broker or correspondent was involved in origination of mortgage loan: Retail(R), Broker(B), Correspondent(C)\n",
    "    -  **loan_purpose** (Categorical): Indicates type of loan: Chash-out refinance mortgage(C), No cash-out refinance mortgage(N), Purchase mortgage(P)\n",
    "    - **orig_loan_term** (Numeric): Number of scheduled monthly repayments on mortgage\n",
    "    - **prod_type** (Categorical): Denotes whether mortgage is fixed rate or adjustable rate\n",
    "    - **seller_name** (Categorical): Entity acting as seller of mortgages to Freddie Mac\n",
    "    - **servicer_name** (Categorical): Entity acting as servicer of mortgages to Freddie Mac\n",
    "    - **flag_sc** (Categorical): Indicates whether mortgages with origination dates after 10/1/2008, delived to Freddie Mac on or after 1/1/2009 exceed the conforming loan limits\n",
    "    - **program_ind** (Categorical): Indicates whether loan is part of any programmes: Home Possible(H), HFA Advantage(F), Refi Possible(R) Not Available/Applicable(9)\n",
    "    - **rr_ind** (Categorical): Indicates whether loan is part of Relief Refinance Program.\n",
    "    - **io_ind** (Categorical): Indicates whether loan only requires interest payments for a specific period\n",
    "    - **mi_cancel_ind** (Categorical): Indicates whether mortgage insurance has been reported as cancelled after time of Freddie Macs purchase of the mortgage loan: Cancelled(Y), Not Cancelled(N), Not Applicable(7), Not Disclosed(9)\n",
    "    - **loan_status** (Categorical): Indicates whether borrower(s) has defaulted on loan, paid off loan or if loan is still active\n",
    "  \n",
    "- **Property Details:**\n",
    "    - **flag_fthb** (Categorical): Indicates whether Borrower(s) is a purchasing mortgaged property as a primary residence, having had no ownership interest in a residential property in the three years prior: Yes(Y), No(N), Not available/applicable(9)\n",
    "    - **cd_msa** (Categorical): Metropolitan Statistical Area (MSA) or Metropolitan Division\n",
    "    - **cnt_units** (Ordinal)/(Categorical) Denotes number of units in property: One(1), Two(2), Three(3), Four(4), Not available(99)\n",
    "    - **occpy_sts** (Categorical): Indicates status of property: Owner occupied(P), Second home(S), Investment property(I), Not available (9)\n",
    "    - **st** (Categorical): Indicates State to which property belongs\n",
    "    - **prop_type** (Categorical): Denotes property type: Condominium(CO), Planned unit development(PU), Cooperative share(CP), Manufactured home(MH), Single-family home(SF)\n",
    "    - **zipcode** (Categorical): Postal code for location of mortgaged property\n",
    "    - **property_val** (Categorical): Indicates method used to obtain property appraisal, if any: ACE Loans(1), Full Appraisal(2), Other Appraisals(3), ACE+PDR(4), Not Available(9)\n",
    "\n",
    "The following columns from the data set have been removed since they do not offer any additional information:\n",
    "- **ppmt_pnlty**, **io_ind** and **prod_type** are categorical features that only contain one value\n",
    "- **id_loan_rr** can be removed since it is an indicator that is also given by **rr_ind**.\n",
    "- **id_loan** ***we could keep this if we want to consider a comparison of the origination date and the first payment date***"
   ]
  },
  {
   "cell_type": "code",
   "execution_count": 14,
   "id": "b59b639c",
   "metadata": {},
   "outputs": [],
   "source": [
    "d = pd.read_csv(\"freddiemac_extra2.csv\", low_memory=False)\n",
    "d = d.drop(columns=['id_loan', 'id_loan_rr', 'io_ind', 'prod_type', 'ppmt_pnlty'])"
   ]
  },
  {
   "cell_type": "markdown",
   "id": "d06de4af",
   "metadata": {},
   "source": [
    "\n",
    "### Missing Data\n",
    "\n",
    "The data includes approximately 20,000 null values for the **cd_msa** information. Despite this, there is no missing information on **zipcode**. As a result, we have decided to use zipcode data in analysis. This will be discussed in more detail in exploratory data analysis.\n",
    "The remaining features that contain null values are **flag_sc**, and **rr_ind**, however these are categorical variables that take NaN to refer to 'No'. All NaN entries have been replaced with 'N'.\n",
    "\n",
    "There are 41 missing Credit Scores in the dataset. Out of these, 3 loans were defaults. Since the dataset does not contain many defaults, we do not want to exclude this information and we will proceed by ***add detail here...***. Only one observation is not available for the mortgage insurance percentage and given this loan was not a default, we will exclude it from the data set. There are 6 missing observations for combined loan-to-value, and 2 of these are the missing values for loan-to-value, which occurs when the loanee has no other loans. None of these loans were defaults, so they have been excluded.\n",
    "\n",
    "There are 2,412 missing values for the debt-to-income ratio, and more notably, a disproportinal number of these observations are loans that have defaulted. When debt-to-income ratio is greater than 65%, it is classified as a missing value. These are loans where the monthly debt payments are greater than 65% of monthly income of the loanee suggesting that they are higher-risk loans. To deal with this we have discretised debt-to-income and encoded it ordinally. We have used cross-validation to determine a reasonable choice for the number of bins as 10.\n",
    "\n",
    "We interpret the value of 9 for the program indicator as Not Applicable meaning that the loan is not part of a program. There could be missing data embedded within this, however since this category acts as a baseline associated to no programs, then this assumption does not lose any information. Finally, there are 125 values missing for property value. None of these are defaults, so they have been excluded."
   ]
  },
  {
   "cell_type": "code",
   "execution_count": 10,
   "id": "555ee868",
   "metadata": {},
   "outputs": [],
   "source": [
    "d['flag_sc'] = d['flag_sc'].fillna('N')\n",
    "d['rr_ind'] = d['rr_ind'].fillna('N')\n",
    "d = d[d['fico'] != 9999] # removed missing credit scores for now but perhaps we should reconsider\n",
    "d = d[d['mi_pct'] != 999]\n",
    "d = d[d['cltv'] != 999]\n",
    "d = d[d['property_val'] != 9]"
   ]
  },
  {
   "cell_type": "markdown",
   "id": "84e03f9c",
   "metadata": {},
   "source": [
    "### Data Split\n",
    "\n",
    "***To avoid any data leakage, the dataset is split into training and test sets from this point onwards.***\n",
    "\n",
    "We will separate active loans from non-active loans. The non-active loans will be separated a training set (70%) to build the model, a validation set to tune the model (15%), and finally a test set (15%). Once the final model has been determined, it will be used to offer insight on existing loans with Freddie Mac."
   ]
  },
  {
   "cell_type": "code",
   "execution_count": 23,
   "id": "c75934e6",
   "metadata": {},
   "outputs": [
    {
     "data": {
      "text/plain": [
       "Index(['fico', 'dt_first_pi', 'flag_fthb', 'dt_matr', 'cd_msa', 'mi_pct',\n",
       "       'cnt_units', 'occpy_sts', 'cltv', 'dti', 'orig_upb', 'ltv', 'int_rt',\n",
       "       'channel', 'st', 'prop_type', 'zipcode', 'loan_purpose',\n",
       "       'orig_loan_term', 'cnt_borr', 'seller_name', 'servicer_name', 'flag_sc',\n",
       "       'program_ind', 'rr_ind', 'property_val', 'mi_cancel_ind', 'zip', 'lng',\n",
       "       'lat', 'county_fips', 'loan_status'],\n",
       "      dtype='object')"
      ]
     },
     "execution_count": 23,
     "metadata": {},
     "output_type": "execute_result"
    }
   ],
   "source": [
    "active = d[d['loan_status'] == 'active']\n",
    "nonactive = d[d['loan_status'] != 'active']\n",
    "nonactive = d[[col for col in d.columns if col != 'loan_status'] + ['loan_status']]\n",
    "\n",
    "# Feature matrix and response vector\n",
    "X, y = nonactive.drop(['loan_status'], axis=1), nonactive['loan_status']\n",
    "\n",
    "# Convert to numpy array\n",
    "X = X.values\n",
    "\n",
    "# Encode default\n",
    "y = LabelEncoder().fit_transform(y)\n",
    "\n",
    "# Naively split the data into train and test sets \n",
    "X_train, X_tv, y_train, y_tv = train_test_split(X, y, shuffle= True,\n",
    "                                                    test_size = 0.3, random_state=1112, stratify=y)\n",
    "\n",
    "X_test, X_val, y_test, y_val = train_test_split(X_tv, y_tv, shuffle= True,\n",
    "                                                    test_size = 0.5, random_state=1112, stratify=y_tv)\n",
    "\n",
    "# Convert back to DataFrame\n",
    "df_train = pd.DataFrame(np.concatenate([X_train, y_train.reshape(-1, 1)], axis=1), columns=nonactive.columns)\n",
    "df_test = pd.DataFrame(np.concatenate([X_test, y_test.reshape(-1, 1)], axis=1), columns=nonactive.columns)\n",
    "df_val = pd.DataFrame(np.concatenate([X_test, y_test.reshape(-1, 1)], axis=1), columns=nonactive.columns)\n",
    "\n",
    "# np.unique(y_train, return_counts=True)\n",
    "\n",
    "# df_train.columns\n",
    "nonactive.columns"
   ]
  },
  {
   "cell_type": "markdown",
   "id": "af4bc461",
   "metadata": {},
   "source": [
    "# Exploratory Data Analysis\n",
    "\n",
    "### Categorical Data"
   ]
  },
  {
   "cell_type": "code",
   "execution_count": 24,
   "id": "7662fff7",
   "metadata": {},
   "outputs": [
    {
     "name": "stdout",
     "output_type": "stream",
     "text": [
      "{1: 97.4, 2: 1.8, 3: 0.5, 4: 0.3}\n"
     ]
    },
    {
     "data": {
      "image/png": "[encoded data removed]",
      "text/plain": [
       "<Figure size 800x240 with 1 Axes>"
      ]
     },
     "metadata": {},
     "output_type": "display_data"
    }
   ],
   "source": [
    "\n",
    "plot_categorical(df_train, 'cnt_units')"
   ]
  },
  {
   "cell_type": "markdown",
   "id": "7b325dfb",
   "metadata": {},
   "source": [
    "### Numerical Data"
   ]
  },
  {
   "cell_type": "markdown",
   "id": "90a8e75a",
   "metadata": {},
   "source": [
    "### Geographical Data"
   ]
  },
  {
   "cell_type": "code",
   "execution_count": null,
   "id": "348be9ab",
   "metadata": {},
   "outputs": [],
   "source": [
    "# Column Transformer Pipeline\n",
    "\n",
    "dti_index = df_train.columns.get_loc(\"dti\")\n",
    "num_var = [\"fico\",\"dt_first_pi\",\"mi_pct\",\"orig_upb\",\"int_rt\",\"dt_matr\",\"cltv\", \"ltv\", \"orig_loan_term\", \"lat\", \"long\"]\n",
    "cat_var = [\"seller_name\", \"servicer_name\",\"flag_fthb\", \"cnt_units\", \"occpy_sts\", \"channel\", \"prop_type\", \"loan_purpose\", \"cnt_borr\", \"flag_sc\", \"program_ind\", \"rr_ind\", \"property_val\", \"mi_cancel_ind\"]\n",
    "\n",
    "num_var_index = df_train.columns.get_indexer(num_var)\n",
    "cat_var_index = df_train.columns.get_indexer(cat_var)\n",
    "\n",
    "ct = Pipeline(\n",
    "    [(\"pre_processing\", ColumnTransformer(\n",
    "        [(\"disc\", KBinsDiscretizer(encode='ordinal', n_bins=10), [dti_index]),\n",
    "         (\"cat\", OneHotEncoder(drop='first', handle_unknown='ignore'), cat_var_index),\n",
    "         (\"num\", StandardScaler(), num_var_index)]\n",
    "    ))])\n",
    "\n",
    "ct.fit(X_train)\n",
    "X_train_e = ct.transform(X_train)\n"
   ]
  },
  {
   "cell_type": "code",
   "execution_count": 33,
   "id": "3586331f",
   "metadata": {},
   "outputs": [],
   "source": [
    "# Dealing with Imbalance\n",
    "\n",
    "OS = RandomOverSampler(random_state=1112)\n",
    "X_train_e_over, y_train_over = OS.fit_resample(X_train_e, y_train)\n",
    "\n",
    "SMTE = SMOTE(random_state=1112)\n",
    "X_train_e_smote, y_train_smote = SMTE.fit_resample(X_train_e, y_train)"
   ]
  },
  {
   "cell_type": "markdown",
   "id": "7bc9fe39",
   "metadata": {},
   "source": [
    "# Model Fitting and Tuning\n",
    "\n",
    "### Logistic Regression\n",
    "\n",
    "Comment on excluding Linear SVM due to poor performance of LogReg\n",
    "\n",
    "### Non-Linear SVM\n",
    "\n",
    "Try sparse input to deal with training time. If not, consider bagging. Experiment with poly, rbf, sigmoid, cosine and fine tune parameters.\n",
    "Adapt loss function in GridSearch\n",
    "\n",
    "### Random Forests\n",
    "Look through Ashe's work and integrate.\n",
    "Feature Importance\n",
    "\n",
    "### Neural Networks\n",
    "\n",
    "\n",
    "\n",
    "### Final Model\n",
    "Discussion and Results of final choices\n",
    "\n",
    "### Active Loans\n",
    "Bank rating\n",
    "Heatmap of location risk\n",
    "\n"
   ]
  },
  {
   "cell_type": "markdown",
   "id": "308a9c84",
   "metadata": {},
   "source": [
    "# Discussion & Conclusions\n",
    "\n",
    "*In this section you should provide a general overview of your final model, its performance, and reliability. You should discuss what the implications of your model are in terms of the included features, estimated parameters and relationships, predictive performance, and anything else you think is relevant.*\n",
    "\n",
    "*This should be written with a target audience of a banking official, who is understands the issues associated with mortgage defaults but may only have university level mathematics (not necessarily postgraduate statistics or machine learning). Your goal should be to highlight to this audience how your model can useful. You should also discuss potential limitations or directions of future improvement of your model.*\n",
    "\n",
    "*Finally, you should include recommendations on factors that may increase the risk of default, which may be useful for the companies to improve their understanding of\n",
    "mortgage defaults, and also to explain their decisions to clients and regulatory bodies. You should also use your model to inform the company of any active loans that are at risk of default.*\n",
    "\n",
    "*Keep in mind that a negative result, i.e. a model that does not work well predictively, that is well explained and justified in terms of why it failed will likely receive higher marks than a model with strong predictive performance but with poor or incorrect explinations / justifications.*"
   ]
  },
  {
   "cell_type": "markdown",
   "id": "ebb8539f",
   "metadata": {},
   "source": [
    "# Generative AI statement\n",
    "\n",
    "*Include a statement on how generative AI was used in the project and report.*"
   ]
  },
  {
   "cell_type": "markdown",
   "id": "09db6349",
   "metadata": {},
   "source": [
    "# References\n",
    "\n",
    "*Include references if any*"
   ]
  },
  {
   "cell_type": "code",
   "execution_count": 7,
   "id": "0e3625a7",
   "metadata": {},
   "outputs": [
    {
     "name": "stdout",
     "output_type": "stream",
     "text": [
      "[NbConvertApp] Converting notebook project2.ipynb to pdf\n",
      "[NbConvertApp] Writing 46841 bytes to notebook.tex\n",
      "[NbConvertApp] Building PDF\n",
      "[NbConvertApp] Running xelatex 3 times: ['xelatex', 'notebook.tex', '-quiet']\n",
      "[NbConvertApp] Running bibtex 1 time: ['bibtex', 'notebook']\n",
      "[NbConvertApp] WARNING | bibtex had problems, most likely because there were no citations\n",
      "[NbConvertApp] PDF successfully created\n",
      "[NbConvertApp] Writing 72312 bytes to project2.pdf\n"
     ]
    }
   ],
   "source": [
    "# Run the following to render to PDF\n",
    "!jupyter nbconvert --to pdf project2.ipynb"
   ]
  }
 ],
 "metadata": {
  "kernelspec": {
   "display_name": "base",
   "language": "python",
   "name": "python3"
  },
  "language_info": {
   "codemirror_mode": {
    "name": "ipython",
    "version": 3
   },
   "file_extension": ".py",
   "mimetype": "text/x-python",
   "name": "python",
   "nbconvert_exporter": "python",
   "pygments_lexer": "ipython3",
   "version": "3.12.2"
  }
 },
 "nbformat": 4,
 "nbformat_minor": 5
}
