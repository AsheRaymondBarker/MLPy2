{
 "cells": [
  {
   "cell_type": "markdown",
   "id": "8281b6f8",
   "metadata": {},
   "source": [
    "# Machine Learning in Python - Project 2\n",
    "\n",
    "Alfie Plant, Markus Emmott, Oscar Youngman, Ashe Raymond-Barker"
   ]
  },
  {
   "cell_type": "markdown",
   "id": "821233d2",
   "metadata": {},
   "source": [
    "## Setup\n",
    "\n",
    "*Install any packages here, define any functions if neeed, and load data*"
   ]
  },
  {
   "cell_type": "code",
   "execution_count": 4,
   "id": "7e1ba94a",
   "metadata": {
    "ExecuteTime": {
     "end_time": "2025-04-14T12:32:18.069706Z",
     "start_time": "2025-04-14T12:32:11.869402Z"
    }
   },
   "outputs": [],
   "source": [
    "from math import isnan\n",
    "\n",
    "# Add any additional libraries or submodules below\n",
    "\n",
    "# Data libraries\n",
    "import pandas as pd\n",
    "import numpy as np\n",
    "\n",
    "# Plotting libraries\n",
    "import matplotlib.pyplot as plt\n",
    "import seaborn as sns\n",
    "\n",
    "# Plotting defaults\n",
    "plt.rcParams['figure.figsize'] = (8,5)\n",
    "plt.rcParams['figure.dpi'] = 80\n",
    "\n",
    "#import keras\n",
    "#import tensorflow as tf\n",
    "# sklearn modules\n",
    "import sklearn\n",
    "from sklearn.linear_model import LogisticRegression\n",
    "from sklearn.svm import SVC, LinearSVC\n",
    "from sklearn.preprocessing import StandardScaler, OneHotEncoder, LabelEncoder, KBinsDiscretizer\n",
    "from sklearn.preprocessing import Binarizer, PolynomialFeatures, MinMaxScaler\n",
    "from sklearn.pipeline import make_pipeline\n",
    "from sklearn.compose import ColumnTransformer\n",
    "from sklearn.pipeline import Pipeline\n",
    "from sklearn.model_selection import GridSearchCV, KFold, StratifiedKFold\n",
    "from sklearn.ensemble import BaggingClassifier\n",
    "\n",
    "from sklearn.model_selection import train_test_split\n",
    "from sklearn.metrics import ConfusionMatrixDisplay, confusion_matrix\n",
    "from sklearn.metrics import accuracy_score, precision_score, f1_score, recall_score\n",
    "from sklearn.metrics import RocCurveDisplay, roc_auc_score\n",
    "from sklearn.metrics import PrecisionRecallDisplay\n",
    "\n",
    "# EDA plotter functions\n",
    "\n",
    "from helper_funcs import *\n",
    "\n",
    "from geo_plotting_functions import *\n",
    "\n",
    "from imblearn.over_sampling import RandomOverSampler, SMOTE"
   ]
  },
  {
   "cell_type": "markdown",
   "id": "28603fe7",
   "metadata": {},
   "source": [
    "# Introduction\n",
    "\n",
    "Brief discussion of problem and approaches used\n",
    "\n",
    "### Data Overview\n",
    "\n",
    "The dataset consists of 200,000 fully amortizing fixed-rate Single-Family mortgages. Of these, 125,959 have been paid off, 73,295 are still active, and 746 have defaulted. There are $32$ features, which can be categorised as follows:\n",
    "\n",
    " - **Personal Details:**\n",
    "    - **fico** (Numeric): Borrower's credit score\n",
    "    - **dti** (Numeric): Ratio value of borrower(s) monthly debt payments to total monthly income\n",
    "    - **cnt_borr** (Categorical): Whether one of multiple borrowers are obligated to pay the mortgage: One borrower (1), Multiple borrowers (2)\n",
    "    - **cltv** (Numeric): Ratio value of all combined loans of Borrower(s) to value of property\n",
    "    - **ltv** (Numeric): Ratio value of mortgage loan of Borrower(s) to value of property\n",
    "  \n",
    "- **Loan Details:**\n",
    "    - **dt_first_pi** (Numeric): First payment date of mortgage (YYYYMM)\n",
    "    - **dt_matr** (Numeric): Final payment date of mortgage (YYYYMM)\n",
    "    - **mi_pct** (Numeric): Percentage of loss coverage on the loan insurance plan, where 0 indicates no insurance\n",
    "    - **orig_upb** (Numeric): Unpaid balance of mortgage to the nearest $1,000\n",
    "    - **int_rt** (Numeric): Interest rate of loan\n",
    "    - **channel** (Categorical): Indicates whether Broker or correspondent was involved in origination of mortgage loan: Retail(R), Broker(B), Correspondent(C)\n",
    "    -  **loan_purpose** (Categorical): Indicates type of loan: Chash-out refinance mortgage(C), No cash-out refinance mortgage(N), Purchase mortgage(P)\n",
    "    - **orig_loan_term** (Numeric): Number of scheduled monthly repayments on mortgage\n",
    "    - **prod_type** (Categorical): Denotes whether mortgage is fixed rate or adjustable rate\n",
    "    - **seller_name** (Categorical): Entity acting as seller of mortgages to Freddie Mac\n",
    "    - **servicer_name** (Categorical): Entity acting as servicer of mortgages to Freddie Mac\n",
    "    - **flag_sc** (Categorical): Indicates whether mortgages with origination dates after 10/1/2008, delived to Freddie Mac on or after 1/1/2009 exceed the conforming loan limits\n",
    "    - **program_ind** (Categorical): Indicates whether loan is part of any programmes: Home Possible(H), HFA Advantage(F), Refi Possible(R) Not Available/Applicable(9)\n",
    "    - **rr_ind** (Categorical): Indicates whether loan is part of Relief Refinance Program.\n",
    "    - **io_ind** (Categorical): Indicates whether loan only requires interest payments for a specific period\n",
    "    - **mi_cancel_ind** (Categorical): Indicates whether mortgage insurance has been reported as cancelled after time of Freddie Macs purchase of the mortgage loan: Cancelled(Y), Not Cancelled(N), Not Applicable(7), Not Disclosed(9)\n",
    "    - **loan_status** (Categorical): Indicates whether borrower(s) has defaulted on loan, paid off loan or if loan is still active\n",
    "  \n",
    "- **Property Details:**\n",
    "    - **flag_fthb** (Categorical): Indicates whether Borrower(s) is a purchasing mortgaged property as a primary residence, having had no ownership interest in a residential property in the three years prior: Yes(Y), No(N), Not available/applicable(9)\n",
    "    - **cd_msa** (Categorical): Metropolitan Statistical Area (MSA) or Metropolitan Division\n",
    "    - **cnt_units** (Ordinal)/(Categorical) Denotes number of units in property: One(1), Two(2), Three(3), Four(4), Not available(99)\n",
    "    - **occpy_sts** (Categorical): Indicates status of property: Owner occupied(P), Second home(S), Investment property(I), Not available (9)\n",
    "    - **st** (Categorical): Indicates State to which property belongs\n",
    "    - **prop_type** (Categorical): Denotes property type: Condominium(CO), Planned unit development(PU), Cooperative share(CP), Manufactured home(MH), Single-family home(SF)\n",
    "    - **zipcode** (Categorical): Postal code for location of mortgaged property\n",
    "    - **property_val** (Categorical): Indicates method used to obtain property appraisal, if any: ACE Loans(1), Full Appraisal(2), Other Appraisals(3), ACE+PDR(4), Not Available(9)\n",
    "\n",
    "The following columns from the data set have been removed since they do not offer any additional information:\n",
    "- **ppmt_pnlty**, **io_ind** and **prod_type** are categorical features that only contain one value\n",
    "- **id_loan_rr** can be removed since it is an indicator that is also given by **rr_ind**.\n",
    "- **id_loan** ***we could keep this if we want to consider a comparison of the origination date and the first payment date***"
   ]
  },
  {
   "cell_type": "code",
   "execution_count": 5,
   "id": "b59b639c",
   "metadata": {
    "ExecuteTime": {
     "end_time": "2025-04-14T12:32:18.890899Z",
     "start_time": "2025-04-14T12:32:18.097245Z"
    }
   },
   "outputs": [],
   "source": [
    "d = pd.read_csv(\"freddiemac_extra2.csv\", low_memory=False)\n",
    "d = d.drop(columns=['id_loan_rr', 'io_ind', 'prod_type', 'ppmt_pnlty'])"
   ]
  },
  {
   "cell_type": "markdown",
   "id": "d06de4af",
   "metadata": {},
   "source": [
    "\n",
    "### Missing Data\n",
    "\n",
    "The data includes approximately 20,000 null values for the **cd_msa** information. Despite this, there is no missing information on **zipcode**. As a result, we have decided to use zipcode data in analysis. This will be discussed in more detail in exploratory data analysis.\n",
    "The remaining features that contain null values are **flag_sc**, and **rr_ind**, however these are categorical variables that take NaN to refer to 'No'. All NaN entries have been replaced with 'N'.\n",
    "\n",
    "There are 41 missing Credit Scores in the dataset. Out of these, 3 loans were defaults. Since the dataset does not contain many defaults, we do not want to exclude this information and we will proceed by ***add detail here...***. Only one observation is not available for the mortgage insurance percentage and given this loan was not a default, we will exclude it from the data set. There are 6 missing observations for combined loan-to-value, and 2 of these are the missing values for loan-to-value, which occurs when the loanee has no other loans. None of these loans were defaults, so they have been excluded.\n",
    "\n",
    "There are 2,412 missing values for the debt-to-income ratio, and more notably, a disproportinal number of these observations are loans that have defaulted. When debt-to-income ratio is greater than 65%, it is classified as a missing value. These are loans where the monthly debt payments are greater than 65% of monthly income of the loanee suggesting that they are higher-risk loans. To deal with this we have discretised debt-to-income and encoded it ordinally. We have used cross-validation to determine a reasonable choice for the number of bins as 10.\n",
    "\n",
    "We interpret the value of 9 for the program indicator as Not Applicable meaning that the loan is not part of a program. There could be missing data embedded within this, however since this category acts as a baseline associated to no programs, then this assumption does not lose any information. Finally, there are 125 values missing for property value. None of these are defaults, so they have been excluded."
   ]
  },
  {
   "cell_type": "code",
   "execution_count": 6,
   "id": "555ee868",
   "metadata": {
    "ExecuteTime": {
     "end_time": "2025-04-14T12:32:25.391599Z",
     "start_time": "2025-04-14T12:32:25.219962Z"
    }
   },
   "outputs": [],
   "source": [
    "d['flag_sc'] = d['flag_sc'].fillna('N')\n",
    "d['rr_ind'] = d['rr_ind'].fillna('N')\n",
    "d = d[d['fico'] != 9999] # removed missing credit scores for now but perhaps we should reconsider\n",
    "d = d[d['mi_pct'] != 999]\n",
    "d = d[d['cltv'] != 999]\n",
    "d = d[d['property_val'] != 9]"
   ]
  },
  {
   "cell_type": "markdown",
   "id": "9503e951cc19599e",
   "metadata": {},
   "source": [
    "### Feature Engineering\n",
    "#### Date value changes\n",
    "There are 3 instances of date values with the dataset: `dt_matr`, `dt_first_pi` and `id_loan`. For `dt_matr` and `dt_first_pi` we convert the dates to current year plus the fraction of how much of that year has progressed (e.g. 03/2024 -> 2024.25). For `id_loan` we have the year and the fiscal quarter, were the dates are in the same end format above with the month being the mid-point of the quarter (e.g. Q1 is (January to March) hence the month assigned is February)."
   ]
  },
  {
   "cell_type": "code",
   "execution_count": 7,
   "id": "505d91ad73bee851",
   "metadata": {
    "ExecuteTime": {
     "end_time": "2025-04-14T12:32:29.468796Z",
     "start_time": "2025-04-14T12:32:29.455336Z"
    }
   },
   "outputs": [],
   "source": [
    "date_str_to_num = np.vectorize(lambda x : int(str(x)[:-2])+(int(str(x)[-2:])-0.5)/12)\n",
    "date_strq_to_num = np.vectorize(lambda x : 2000+int(x[1:3])+(int(x[4:5])*3-1)/12)"
   ]
  },
  {
   "cell_type": "code",
   "execution_count": 8,
   "id": "82b963c8155deb6d",
   "metadata": {
    "ExecuteTime": {
     "end_time": "2025-04-14T12:32:32.058386Z",
     "start_time": "2025-04-14T12:32:31.452846Z"
    }
   },
   "outputs": [],
   "source": [
    "d[\"dt_first_pi\"] = date_str_to_num(d[\"dt_first_pi\"])\n",
    "d[\"dt_matr\"] = date_str_to_num(d[\"dt_matr\"])\n",
    "d[\"dt_logged\"] = date_strq_to_num(d[\"id_loan\"])"
   ]
  },
  {
   "cell_type": "markdown",
   "id": "f265d066bb2d5658",
   "metadata": {},
   "source": [
    "#### Banks\n",
    "One issue we forsee arises with the two categorical variables: `seller_name` and `servicer_name`. Both have many values, and if one-hot encoded, would add a lot of sparse data attributes. Hence, we created a new metric to capture information about `seller_name` numerically (where we dropped `servicer_name`). This metric is mortgage \"flexibility\", the number of unique mortgage lengths for each seller, with the thought process being, \"flexible\" banks are likely to be bigger banks with better risk assessment.\n",
    "\n",
    "\n",
    "This belief is reinforced in the data, by looking at the plot below; banks with lots of \"flexibility\" have a lower defaulting proportion."
   ]
  },
  {
   "cell_type": "code",
   "execution_count": 9,
   "id": "2b99fa98207249e4",
   "metadata": {
    "ExecuteTime": {
     "end_time": "2025-04-14T12:35:27.516237Z",
     "start_time": "2025-04-14T12:34:47.004845Z"
    }
   },
   "outputs": [],
   "source": [
    "bank_array = []\n",
    "\n",
    "for bank in d[\"seller_name\"].unique():\n",
    "    if bank == \"Other sellers\":\n",
    "        continue\n",
    "    bank_data = d[d[\"seller_name\"] == bank]\n",
    "    flex = len(bank_data[\"orig_loan_term\"].unique())\n",
    "    default_prop = sum(bank_data[\"loan_status\"]==\"default\")/len(bank_data[\"loan_status\"])\n",
    "    bank_array.append([bank, flex, default_prop])\n",
    "    \n",
    "bank_df = pd.DataFrame(bank_array, columns=[\"seller_name\", \"flex\", \"default_prop\"])\n",
    "other_banks = d[d[\"seller_name\"] == \"Other sellers\"]\n",
    "bank_df.loc[bank_df.shape[1]] = [\"Other sellers\", int(np.mean(bank_df[\"flex\"])),\n",
    "                                 sum(other_banks[\"loan_status\"]==\"default\")/len(other_banks[\"loan_status\"])]\n",
    "\n",
    "flex_vector = []\n",
    "for bank in d[\"seller_name\"]:\n",
    "    if bank == \"UNITED SHORE FINANCIAL SERVICES, LLC, DBA UNITED WHOLESALE M\":\n",
    "        flex_vector.append(0.00786)\n",
    "        continue\n",
    "    flex_vector.append(bank_df[bank_df[\"seller_name\"] == str(bank)][\"flex\"].values[0])\n",
    "    \n",
    "d[\"flex\"] = flex_vector"
   ]
  },
  {
   "cell_type": "code",
   "execution_count": 10,
   "id": "99162be4dbcaf1d6",
   "metadata": {
    "ExecuteTime": {
     "end_time": "2025-04-14T12:36:18.603547Z",
     "start_time": "2025-04-14T12:36:17.705982Z"
    }
   },
   "outputs": [
    {
     "data": {
      "image/png": "[encoded data removed]",
      "text/plain": [
       "<Figure size 640x400 with 1 Axes>"
      ]
     },
     "metadata": {
      "needs_background": "light"
     },
     "output_type": "display_data"
    }
   ],
   "source": [
    "fig, ax = plt.subplots()\n",
    "\n",
    "ax.scatter(bank_df[\"flex\"], bank_df[\"default_prop\"], s=5)\n",
    "ax.set_xlabel(\"Flexibility value (Higher indicates greater flexibility)\")\n",
    "ax.set_ylabel(\"Proportion of loans by the bank that defaulted\")\n",
    "plt.show()"
   ]
  },
  {
   "cell_type": "markdown",
   "id": "90a8e75a",
   "metadata": {},
   "source": [
    "#### Geographical Data\n",
    "\n",
    "The main two geographical attributes within the dataset are cd_msa and zipcode. In there current form they are categorical, with a large number of categories (448 unique cd_msa codes and 886 unique zipcodes). Ideally, we would like to encode geographical location numerically.\n",
    "\n",
    "For each zipcode entry, we have the first 3 digits but the last two are excluded for privacy. A dataset was found of zipcodes, their latitude, longitude and population. For each entry in the dataset we took the beginning zipcode and assigned the final two digits based on a random sample weighted by proportion of zipcode population. Then with each sample having a unique, 6 digit zipcode, we assigned the observation the latitude and longitude value for this zipcode. This was carried out before splitting active and non-active."
   ]
  },
  {
   "cell_type": "code",
   "execution_count": 11,
   "id": "3ba9867e98525475",
   "metadata": {
    "ExecuteTime": {
     "end_time": "2025-04-14T12:04:34.929301Z",
     "start_time": "2025-04-14T12:04:28.457025Z"
    }
   },
   "outputs": [
    {
     "ename": "DataSourceError",
     "evalue": "C:\\Users\\emmot\\DataspellProjects\\ML_Proj2\\cb_2018_us_county_500k: No such file or directory",
     "output_type": "error",
     "traceback": [
      "\u001B[0;31m---------------------------------------------------------------------------\u001B[0m",
      "\u001B[0;31mDataSourceError\u001B[0m                           Traceback (most recent call last)",
      "\u001B[0;32m/var/folders/vq/b81cg7n96gngjvbhvvp75knm0000gn/T/ipykernel_31571/2029083772.py\u001B[0m in \u001B[0;36m<module>\u001B[0;34m\u001B[0m\n\u001B[0;32m----> 1\u001B[0;31m \u001B[0mcounties\u001B[0m\u001B[0;34m,\u001B[0m \u001B[0mstates\u001B[0m \u001B[0;34m=\u001B[0m \u001B[0msetup_map\u001B[0m\u001B[0;34m(\u001B[0m\u001B[0;34m)\u001B[0m\u001B[0;34m\u001B[0m\u001B[0;34m\u001B[0m\u001B[0m\n\u001B[0m\u001B[1;32m      2\u001B[0m \u001B[0;34m\u001B[0m\u001B[0m\n\u001B[1;32m      3\u001B[0m \u001B[0mvals\u001B[0m \u001B[0;34m=\u001B[0m \u001B[0md\u001B[0m\u001B[0;34m[\u001B[0m\u001B[0;34m[\u001B[0m\u001B[0;34m\"county_fips\"\u001B[0m\u001B[0;34m,\u001B[0m \u001B[0;34m\"int_rt\"\u001B[0m\u001B[0;34m]\u001B[0m\u001B[0;34m]\u001B[0m\u001B[0;34m.\u001B[0m\u001B[0mgroupby\u001B[0m\u001B[0;34m(\u001B[0m\u001B[0;34m\"county_fips\"\u001B[0m\u001B[0;34m)\u001B[0m\u001B[0;34m.\u001B[0m\u001B[0magg\u001B[0m\u001B[0;34m(\u001B[0m\u001B[0;34m{\u001B[0m\u001B[0;34m\"int_rt\"\u001B[0m\u001B[0;34m:\u001B[0m \u001B[0;34m\"mean\"\u001B[0m\u001B[0;34m}\u001B[0m\u001B[0;34m)\u001B[0m\u001B[0;34m.\u001B[0m\u001B[0mreset_index\u001B[0m\u001B[0;34m(\u001B[0m\u001B[0;34m)\u001B[0m\u001B[0;34m\u001B[0m\u001B[0;34m\u001B[0m\u001B[0m\n\u001B[1;32m      4\u001B[0m \u001B[0mfico_county\u001B[0m \u001B[0;34m=\u001B[0m \u001B[0mpd\u001B[0m\u001B[0;34m.\u001B[0m\u001B[0mDataFrame\u001B[0m\u001B[0;34m(\u001B[0m\u001B[0mvals\u001B[0m\u001B[0;34m)\u001B[0m\u001B[0;34m\u001B[0m\u001B[0;34m\u001B[0m\u001B[0m\n\u001B[1;32m      5\u001B[0m \u001B[0mcounties_new\u001B[0m \u001B[0;34m=\u001B[0m \u001B[0mcounties\u001B[0m\u001B[0;34m.\u001B[0m\u001B[0mreset_index\u001B[0m\u001B[0;34m(\u001B[0m\u001B[0;34m)\u001B[0m\u001B[0;34m.\u001B[0m\u001B[0mrename\u001B[0m\u001B[0;34m(\u001B[0m\u001B[0;34m{\u001B[0m\u001B[0;34m\"GEOID\"\u001B[0m\u001B[0;34m:\u001B[0m \u001B[0;34m\"county_fips\"\u001B[0m\u001B[0;34m}\u001B[0m\u001B[0;34m,\u001B[0m \u001B[0maxis\u001B[0m\u001B[0;34m=\u001B[0m\u001B[0;34m\"columns\"\u001B[0m\u001B[0;34m)\u001B[0m\u001B[0;34m\u001B[0m\u001B[0;34m\u001B[0m\u001B[0m\n",
      "\u001B[0;32m~/Desktop/Machine learning/MLPy2/geo_plotting_functions.py\u001B[0m in \u001B[0;36msetup_map\u001B[0;34m()\u001B[0m\n\u001B[1;32m     73\u001B[0m \u001B[0;34m\u001B[0m\u001B[0m\n\u001B[1;32m     74\u001B[0m     \u001B[0;31m# Read in counties data.\u001B[0m\u001B[0;34m\u001B[0m\u001B[0;34m\u001B[0m\u001B[0m\n\u001B[0;32m---> 75\u001B[0;31m     \u001B[0mcounties\u001B[0m \u001B[0;34m=\u001B[0m \u001B[0mgpd\u001B[0m\u001B[0;34m.\u001B[0m\u001B[0mread_file\u001B[0m\u001B[0;34m(\u001B[0m\u001B[0;34m\"C:\\\\Users\\\\emmot\\\\DataspellProjects\\\\ML_Proj2\\\\cb_2018_us_county_500k\"\u001B[0m\u001B[0;34m)\u001B[0m\u001B[0;34m\u001B[0m\u001B[0;34m\u001B[0m\u001B[0m\n\u001B[0m\u001B[1;32m     76\u001B[0m     \u001B[0;31m# Removing USA overseas territories (e.g. Puerto Rico).\u001B[0m\u001B[0;34m\u001B[0m\u001B[0;34m\u001B[0m\u001B[0m\n\u001B[1;32m     77\u001B[0m     \u001B[0;31m#counties = counties[~counties.STATEFP.isin([\"72\", \"69\", \"60\", \"66\", \"78\"])]\u001B[0m\u001B[0;34m\u001B[0m\u001B[0;34m\u001B[0m\u001B[0m\n",
      "\u001B[0;32m~/opt/anaconda3/lib/python3.9/site-packages/geopandas/io/file.py\u001B[0m in \u001B[0;36m_read_file\u001B[0;34m(filename, bbox, mask, columns, rows, engine, **kwargs)\u001B[0m\n\u001B[1;32m    292\u001B[0m \u001B[0;34m\u001B[0m\u001B[0m\n\u001B[1;32m    293\u001B[0m     \u001B[0;32mif\u001B[0m \u001B[0mengine\u001B[0m \u001B[0;34m==\u001B[0m \u001B[0;34m\"pyogrio\"\u001B[0m\u001B[0;34m:\u001B[0m\u001B[0;34m\u001B[0m\u001B[0;34m\u001B[0m\u001B[0m\n\u001B[0;32m--> 294\u001B[0;31m         return _read_file_pyogrio(\n\u001B[0m\u001B[1;32m    295\u001B[0m             \u001B[0mfilename\u001B[0m\u001B[0;34m,\u001B[0m \u001B[0mbbox\u001B[0m\u001B[0;34m=\u001B[0m\u001B[0mbbox\u001B[0m\u001B[0;34m,\u001B[0m \u001B[0mmask\u001B[0m\u001B[0;34m=\u001B[0m\u001B[0mmask\u001B[0m\u001B[0;34m,\u001B[0m \u001B[0mcolumns\u001B[0m\u001B[0;34m=\u001B[0m\u001B[0mcolumns\u001B[0m\u001B[0;34m,\u001B[0m \u001B[0mrows\u001B[0m\u001B[0;34m=\u001B[0m\u001B[0mrows\u001B[0m\u001B[0;34m,\u001B[0m \u001B[0;34m**\u001B[0m\u001B[0mkwargs\u001B[0m\u001B[0;34m\u001B[0m\u001B[0;34m\u001B[0m\u001B[0m\n\u001B[1;32m    296\u001B[0m         )\n",
      "\u001B[0;32m~/opt/anaconda3/lib/python3.9/site-packages/geopandas/io/file.py\u001B[0m in \u001B[0;36m_read_file_pyogrio\u001B[0;34m(path_or_bytes, bbox, mask, rows, **kwargs)\u001B[0m\n\u001B[1;32m    545\u001B[0m         \u001B[0mkwargs\u001B[0m\u001B[0;34m[\u001B[0m\u001B[0;34m\"columns\"\u001B[0m\u001B[0;34m]\u001B[0m \u001B[0;34m=\u001B[0m \u001B[0mkwargs\u001B[0m\u001B[0;34m.\u001B[0m\u001B[0mpop\u001B[0m\u001B[0;34m(\u001B[0m\u001B[0;34m\"include_fields\"\u001B[0m\u001B[0;34m)\u001B[0m\u001B[0;34m\u001B[0m\u001B[0;34m\u001B[0m\u001B[0m\n\u001B[1;32m    546\u001B[0m \u001B[0;34m\u001B[0m\u001B[0m\n\u001B[0;32m--> 547\u001B[0;31m     \u001B[0;32mreturn\u001B[0m \u001B[0mpyogrio\u001B[0m\u001B[0;34m.\u001B[0m\u001B[0mread_dataframe\u001B[0m\u001B[0;34m(\u001B[0m\u001B[0mpath_or_bytes\u001B[0m\u001B[0;34m,\u001B[0m \u001B[0mbbox\u001B[0m\u001B[0;34m=\u001B[0m\u001B[0mbbox\u001B[0m\u001B[0;34m,\u001B[0m \u001B[0;34m**\u001B[0m\u001B[0mkwargs\u001B[0m\u001B[0;34m)\u001B[0m\u001B[0;34m\u001B[0m\u001B[0;34m\u001B[0m\u001B[0m\n\u001B[0m\u001B[1;32m    548\u001B[0m \u001B[0;34m\u001B[0m\u001B[0m\n\u001B[1;32m    549\u001B[0m \u001B[0;34m\u001B[0m\u001B[0m\n",
      "\u001B[0;32m~/opt/anaconda3/lib/python3.9/site-packages/pyogrio/geopandas.py\u001B[0m in \u001B[0;36mread_dataframe\u001B[0;34m(path_or_buffer, layer, encoding, columns, read_geometry, force_2d, skip_features, max_features, where, bbox, mask, fids, sql, sql_dialect, fid_as_index, use_arrow, arrow_to_pandas_kwargs, **kwargs)\u001B[0m\n\u001B[1;32m    250\u001B[0m         \u001B[0;31m# as numpy does not directly support timezones.\u001B[0m\u001B[0;34m\u001B[0m\u001B[0;34m\u001B[0m\u001B[0m\n\u001B[1;32m    251\u001B[0m         \u001B[0mkwargs\u001B[0m\u001B[0;34m[\u001B[0m\u001B[0;34m\"datetime_as_string\"\u001B[0m\u001B[0;34m]\u001B[0m \u001B[0;34m=\u001B[0m \u001B[0;32mTrue\u001B[0m\u001B[0;34m\u001B[0m\u001B[0;34m\u001B[0m\u001B[0m\n\u001B[0;32m--> 252\u001B[0;31m     result = read_func(\n\u001B[0m\u001B[1;32m    253\u001B[0m         \u001B[0mpath_or_buffer\u001B[0m\u001B[0;34m,\u001B[0m\u001B[0;34m\u001B[0m\u001B[0;34m\u001B[0m\u001B[0m\n\u001B[1;32m    254\u001B[0m         \u001B[0mlayer\u001B[0m\u001B[0;34m=\u001B[0m\u001B[0mlayer\u001B[0m\u001B[0;34m,\u001B[0m\u001B[0;34m\u001B[0m\u001B[0;34m\u001B[0m\u001B[0m\n",
      "\u001B[0;32m~/opt/anaconda3/lib/python3.9/site-packages/pyogrio/raw.py\u001B[0m in \u001B[0;36mread\u001B[0;34m(path_or_buffer, layer, encoding, columns, read_geometry, force_2d, skip_features, max_features, where, bbox, mask, fids, sql, sql_dialect, return_fids, datetime_as_string, **kwargs)\u001B[0m\n\u001B[1;32m    194\u001B[0m     \u001B[0mdataset_kwargs\u001B[0m \u001B[0;34m=\u001B[0m \u001B[0m_preprocess_options_key_value\u001B[0m\u001B[0;34m(\u001B[0m\u001B[0mkwargs\u001B[0m\u001B[0;34m)\u001B[0m \u001B[0;32mif\u001B[0m \u001B[0mkwargs\u001B[0m \u001B[0;32melse\u001B[0m \u001B[0;34m{\u001B[0m\u001B[0;34m}\u001B[0m\u001B[0;34m\u001B[0m\u001B[0;34m\u001B[0m\u001B[0m\n\u001B[1;32m    195\u001B[0m \u001B[0;34m\u001B[0m\u001B[0m\n\u001B[0;32m--> 196\u001B[0;31m     return ogr_read(\n\u001B[0m\u001B[1;32m    197\u001B[0m         \u001B[0mget_vsi_path_or_buffer\u001B[0m\u001B[0;34m(\u001B[0m\u001B[0mpath_or_buffer\u001B[0m\u001B[0;34m)\u001B[0m\u001B[0;34m,\u001B[0m\u001B[0;34m\u001B[0m\u001B[0;34m\u001B[0m\u001B[0m\n\u001B[1;32m    198\u001B[0m         \u001B[0mlayer\u001B[0m\u001B[0;34m=\u001B[0m\u001B[0mlayer\u001B[0m\u001B[0;34m,\u001B[0m\u001B[0;34m\u001B[0m\u001B[0;34m\u001B[0m\u001B[0m\n",
      "\u001B[0;32m~/opt/anaconda3/lib/python3.9/site-packages/pyogrio/_io.pyx\u001B[0m in \u001B[0;36mpyogrio._io.ogr_read\u001B[0;34m()\u001B[0m\n",
      "\u001B[0;32m~/opt/anaconda3/lib/python3.9/site-packages/pyogrio/_io.pyx\u001B[0m in \u001B[0;36mpyogrio._io.ogr_open\u001B[0;34m()\u001B[0m\n",
      "\u001B[0;31mDataSourceError\u001B[0m: C:\\Users\\emmot\\DataspellProjects\\ML_Proj2\\cb_2018_us_county_500k: No such file or directory"
     ]
    }
   ],
   "source": [
    "counties, states = setup_map()\n",
    "\n",
    "vals = d[[\"county_fips\", \"int_rt\"]].groupby(\"county_fips\").agg({\"int_rt\": \"mean\"}).reset_index()\n",
    "fico_county = pd.DataFrame(vals)\n",
    "counties_new = counties.reset_index().rename({\"GEOID\": \"county_fips\"}, axis=\"columns\")\n",
    "counties_new[\"county_fips\"] = counties_new[\"county_fips\"].astype(\"int64\")\n",
    "counties_new_fico = pd.merge(fico_county, counties_new, on=\"county_fips\", how=\"left\")\n",
    "counties_new_fico = gpd.GeoDataFrame(counties_new_fico, geometry=\"geometry\")\n",
    "\n",
    "from shapely.geometry import Point\n",
    "\n",
    "data_not_ah = d[~d[\"st\"].isin([\"MP\", \"GU\", \"AS\"])]\n",
    "\n",
    "long = data_not_ah[\"lng\"]\n",
    "lat = data_not_ah[\"lat\"]\n",
    "geometry = [Point(xy) for xy in zip(long, lat)]\n",
    "values_for_df = pd.DataFrame({\"geometry\": geometry, \"state\": data_not_ah[\"st\"]})\n",
    "point_gdf = gpd.GeoDataFrame(values_for_df, geometry=\"geometry\", crs=\"EPSG:4326\")\n",
    "point_gdf = point_gdf.to_crs(\"ESRI:102003\")\n",
    "\n",
    "point_gdf[point_gdf[\"state\"] == \"AK\"] = \\\n",
    "    translate_geom(point_gdf[point_gdf[\"state\"] == \"AK\"], 1100000, -4800000, 0.7, 32)\n",
    "point_gdf[point_gdf[\"state\"] == \"HI\"] = \\\n",
    "    translate_geom(point_gdf[point_gdf[\"state\"] == \"HI\"], 5350000, -1500000, 1.5, 24)\n",
    "point_gdf[point_gdf[\"state\"] == \"PR\"] = \\\n",
    "    translate_geom(point_gdf[point_gdf[\"state\"] == \"PR\"], -2500000, 300000, 3, 0)\n",
    "background_color = \"#242624\"\n",
    "\n",
    "sns.set_style({\n",
    "    \"font.family\": \"serif\",\n",
    "    \"figure.facecolor\": background_color,\n",
    "    \"axes.facecolor\": background_color,\n",
    "})\n",
    "\n",
    "legend_kwds_colorbar = {\"location\": \"bottom\",\n",
    "                        \"orientation\": \"horizontal\",\n",
    "                        \"fraction\": 0.05,\n",
    "                        \"pad\": 0.01,\n",
    "                        \"shrink\": 0.5,\n",
    "                        \"drawedges\": True,\n",
    "                        \"label\": \"Max Interest Rate\"}\n",
    "\n",
    "ax = counties_new_fico.plot(column=\"int_rt\", cmap=\"YlGn\", figsize=(20, 20), linewidth=0, legend=True,\n",
    "                            legend_kwds=legend_kwds_colorbar)\n",
    "states.plot(ax=ax, edgecolor=\"black\", color=\"None\", linewidth=0.4)\n",
    "point_gdf[data_not_ah[\"loan_status\"]==\"default\"].plot(ax=ax, color=\"white\", linewidth=1, markersize=5, alpha=0.8, marker=\"^\")\n",
    "label_plot(ax)\n",
    "ax.annotate(\"MEAN INTEREST RATE\", (-1150000, -2020000), size=15, color=\"white\", family=\"monospace\")\n",
    "\n",
    "plt.axis(\"off\")\n",
    "plt.rcParams.update({'xtick.color': \"white\",\n",
    "                     \"text.color\": \"white\",\n",
    "                     \"legend.labelcolor\": \"white\"})\n",
    "plt.rcParams[\"figure.figsize\"] = (8,10)\n",
    "plt.show()"
   ]
  },
  {
   "cell_type": "markdown",
   "id": "84e03f9c",
   "metadata": {},
   "source": [
    "### Data Split\n",
    "\n",
    "***To avoid any data leakage, the dataset is split into training and test sets from this point onwards.***\n",
    "\n",
    "We will separate active loans from non-active loans. The non-active loans will be separated a training set (70%) to build the model, a validation set to tune the model (15%), and finally a test set (15%). Once the final model has been determined, it will be used to offer insight on existing loans with Freddie Mac."
   ]
  },
  {
   "cell_type": "code",
   "execution_count": 12,
   "id": "c75934e6",
   "metadata": {
    "ExecuteTime": {
     "end_time": "2025-04-14T12:36:28.983303Z",
     "start_time": "2025-04-14T12:36:28.494537Z"
    }
   },
   "outputs": [
    {
     "data": {
      "text/plain": [
       "Index(['fico', 'dt_first_pi', 'flag_fthb', 'dt_matr', 'cd_msa', 'mi_pct',\n",
       "       'cnt_units', 'occpy_sts', 'cltv', 'dti', 'orig_upb', 'ltv', 'int_rt',\n",
       "       'channel', 'st', 'prop_type', 'zipcode', 'id_loan', 'loan_purpose',\n",
       "       'orig_loan_term', 'cnt_borr', 'seller_name', 'servicer_name', 'flag_sc',\n",
       "       'program_ind', 'rr_ind', 'property_val', 'mi_cancel_ind', 'zip', 'lng',\n",
       "       'lat', 'county_fips', 'dt_logged', 'flex', 'loan_status'],\n",
       "      dtype='object')"
      ]
     },
     "execution_count": 12,
     "metadata": {},
     "output_type": "execute_result"
    }
   ],
   "source": [
    "active = d[d['loan_status'] == 'active']\n",
    "nonactive = d[d['loan_status'] != 'active']\n",
    "nonactive = nonactive[[col for col in nonactive.columns if col != 'loan_status'] + ['loan_status']]\n",
    "\n",
    "\n",
    "# Feature matrix and response vector\n",
    "X, y = nonactive.drop(['loan_status'], axis=1), nonactive['loan_status']\n",
    "\n",
    "# Convert to numpy array\n",
    "X = X.values\n",
    "\n",
    "# Encode default\n",
    "y = LabelEncoder().fit_transform(y)\n",
    "\n",
    "# Naively split the data into train and test sets \n",
    "X_train, X_tv, y_train, y_tv = train_test_split(X, y, shuffle= True,\n",
    "                                                    test_size = 0.3, random_state=1112, stratify=y)\n",
    "\n",
    "X_test, X_val, y_test, y_val = train_test_split(X_tv, y_tv, shuffle= True,\n",
    "                                                    test_size = 0.5, random_state=1112, stratify=y_tv)\n",
    "\n",
    "# Convert back to DataFrame\n",
    "df_train = pd.DataFrame(np.concatenate([X_train, y_train.reshape(-1, 1)], axis=1), columns=nonactive.columns)\n",
    "df_test = pd.DataFrame(np.concatenate([X_test, y_test.reshape(-1, 1)], axis=1), columns=nonactive.columns)\n",
    "df_val = pd.DataFrame(np.concatenate([X_test, y_test.reshape(-1, 1)], axis=1), columns=nonactive.columns)\n",
    "\n",
    "# np.unique(y_train, return_counts=True)\n",
    "\n",
    "# df_train.columns\n",
    "nonactive.columns"
   ]
  },
  {
   "cell_type": "markdown",
   "id": "af4bc461",
   "metadata": {},
   "source": [
    "# Exploratory Data Analysis\n",
    "\n",
    "### Categorical Data"
   ]
  },
  {
   "cell_type": "code",
   "execution_count": 13,
   "id": "7662fff7",
   "metadata": {},
   "outputs": [
    {
     "ename": "NameError",
     "evalue": "name 'plot_categorical' is not defined",
     "output_type": "error",
     "traceback": [
      "\u001B[0;31m---------------------------------------------------------------------------\u001B[0m",
      "\u001B[0;31mNameError\u001B[0m                                 Traceback (most recent call last)",
      "\u001B[0;32m/var/folders/vq/b81cg7n96gngjvbhvvp75knm0000gn/T/ipykernel_31571/895006952.py\u001B[0m in \u001B[0;36m<module>\u001B[0;34m\u001B[0m\n\u001B[0;32m----> 1\u001B[0;31m \u001B[0mplot_categorical\u001B[0m\u001B[0;34m(\u001B[0m\u001B[0mdf_train\u001B[0m\u001B[0;34m,\u001B[0m \u001B[0;34m'cnt_units'\u001B[0m\u001B[0;34m)\u001B[0m\u001B[0;34m\u001B[0m\u001B[0;34m\u001B[0m\u001B[0m\n\u001B[0m",
      "\u001B[0;31mNameError\u001B[0m: name 'plot_categorical' is not defined"
     ]
    }
   ],
   "source": [
    "\n",
    "plot_categorical(df_train, 'cnt_units')"
   ]
  },
  {
   "cell_type": "markdown",
   "id": "7b325dfb",
   "metadata": {},
   "source": [
    "### Numerical Data\n",
    "\n",
    "We check our assumptions for variables that would likely indicate someone to default or not, being the interest rate on their mortgage (int_rt) and fico score (fico). Looking at the heatmap below, we can see in green the heatmap of the entirety of the training dataset, laid onto is a heatmap of those who have defaulted. Clearly we can see the blue/default heatmap is centered on a low fico score (in comparison to the whole population) and at a higher interest rate than the main proportion seen in the entire dataset. "
   ]
  },
  {
   "cell_type": "code",
   "execution_count": 14,
   "id": "6fb255c76657df9e",
   "metadata": {
    "ExecuteTime": {
     "end_time": "2025-04-14T10:10:18.400615Z",
     "start_time": "2025-04-14T10:10:17.707467Z"
    }
   },
   "outputs": [
    {
     "data": {
      "image/png": "[encoded data removed]",
      "text/plain": [
       "<Figure size 640x400 with 1 Axes>"
      ]
     },
     "metadata": {
      "needs_background": "light"
     },
     "output_type": "display_data"
    }
   ],
   "source": [
    "plot_heatmap(df_train, \"int_rt\", \"fico\")"
   ]
  },
  {
   "cell_type": "code",
   "execution_count": 15,
   "id": "e3ecfb3c7d4e8489",
   "metadata": {
    "ExecuteTime": {
     "end_time": "2025-04-14T10:18:12.734224Z",
     "start_time": "2025-04-14T10:18:12.032609Z"
    }
   },
   "outputs": [
    {
     "data": {
      "image/png": "[encoded data removed]",
      "text/plain": [
       "<Figure size 1200x400 with 3 Axes>"
      ]
     },
     "metadata": {
      "needs_background": "light"
     },
     "output_type": "display_data"
    }
   ],
   "source": [
    "\n",
    "default_df = df_train[df_train[\"loan_status\"]==0]\n",
    "prepaid_df = df_train[df_train[\"loan_status\"]==1]\n",
    "\n",
    "fig, ax = plt.subplots(1,3, figsize = (15,5))\n",
    "\n",
    "for i,var in enumerate([\"dt_first_pi\", \"dt_matr\", \"dt_logged\"]):\n",
    "    dates_people_buy = np.unique(prepaid_df[var], return_counts=True)\n",
    "    dates_people_buy_default = np.unique(default_df[var], return_counts=True)\n",
    "    \n",
    "    ax[i].plot(dates_people_buy[0], dates_people_buy[1]/sum(dates_people_buy[1]),\n",
    "               linewidth=1)\n",
    "    ax[i].plot(dates_people_buy_default[0], dates_people_buy_default[1]/sum(dates_people_buy_default[1]), linewidth=1)"
   ]
  },
  {
   "cell_type": "code",
   "execution_count": null,
   "id": "870ddee316f61072",
   "metadata": {},
   "outputs": [],
   "source": []
  },
  {
   "cell_type": "markdown",
   "id": "73096f570da6c0d8",
   "metadata": {},
   "source": [
    "## Pre-processing"
   ]
  },
  {
   "cell_type": "code",
   "execution_count": null,
   "id": "348be9ab",
   "metadata": {
    "ExecuteTime": {
     "end_time": "2025-04-14T12:36:38.740942Z",
     "start_time": "2025-04-14T12:36:37.685016Z"
    }
   },
   "outputs": [],
   "source": [
    "# Column Transformer Pipeline\n",
    "\n",
    "dti_index = df_train.columns.get_loc(\"dti\")\n",
    "num_var = [\"fico\",\"dt_first_pi\",\"dt_logged\",\"flex\",\"mi_pct\",\"orig_upb\",\"int_rt\",\"dt_matr\",\"cltv\", \"ltv\", \"orig_loan_term\", \"lat\", \"long\"]\n",
    "cat_var = [\"flag_fthb\", \"cnt_units\", \"occpy_sts\", \"channel\", \"prop_type\", \"loan_purpose\", \"cnt_borr\", \"flag_sc\", \"program_ind\", \"rr_ind\", \"property_val\", \"mi_cancel_ind\"]\n",
    "\n",
    "num_var_index = df_train.columns.get_indexer(num_var)\n",
    "cat_var_index = df_train.columns.get_indexer(cat_var)\n",
    "\n",
    "ct = Pipeline(\n",
    "    [(\"pre_processing\", ColumnTransformer(\n",
    "        [(\"disc\", KBinsDiscretizer(encode='ordinal', n_bins=10), [dti_index]),\n",
    "         (\"cat\", OneHotEncoder(drop='first', handle_unknown='ignore'), cat_var_index),\n",
    "         (\"num\", StandardScaler(), num_var_index),\n",
    "         ], remainder=\"drop\",\n",
    "    ))])\n",
    "\n",
    "ct.fit(X_train)\n",
    "X_train_e = ct.transform(X_train)\n",
    "\n",
    "X_val_e = ct.transform(X_val)"
   ]
  },
  {
   "cell_type": "markdown",
   "id": "1c5522b8c4eefcd6",
   "metadata": {},
   "source": [
    "### Dealing with Imbalance\n",
    "\n",
    "Our task is a binary classifier and hence is highly sensitive to label imbalance. In the case of our dataset, this imbalance is vast. Particularly, we have very few instances of people who have defaulted. To combat this, we carry out resampling. There are two main methods, under- or oversampling; undersampling in our case is unfavorable as it removes a large quantity of observations for people who have prepaid their mortgages. Hence, we will be using oversampling.\n",
    "\n",
    "Two main methods of oversampling are being considered:\n",
    "\n",
    "- **Random oversampling** - where we resample from the subset of mortgages that default. Due to the size of the imbalance, these samples will have a large number of duplicates. This is not advantageous, as our model is likely to overfit due to the low variability in the subset of defaulting mortgages. (note: this can be mitigated by adjusting shrinkage, this will be explored).\n",
    "- **SMOTE (_Synthetic Minority Oversampling Technique_)** - generates new synthetic observations via k nearest neighbours, randomly selects an observation. Finds the k nearest neighbours to this observation, chooses one at random and generates a new observation between itself and neighbour selected. This helps to avoid overfitting the data although will likely cause our dataset to misclassify those in the majority class (prepaid)."
   ]
  },
  {
   "cell_type": "code",
   "execution_count": 17,
   "id": "3586331f",
   "metadata": {
    "ExecuteTime": {
     "end_time": "2025-04-14T12:36:48.191287Z",
     "start_time": "2025-04-14T12:36:47.047457Z"
    }
   },
   "outputs": [
    {
     "name": "stderr",
     "output_type": "stream",
     "text": [
      "/Users/oscaryoungman/opt/anaconda3/lib/python3.9/site-packages/sklearn/utils/deprecation.py:151: FutureWarning: 'force_all_finite' was renamed to 'ensure_all_finite' in 1.6 and will be removed in 1.8.\n",
      "  warnings.warn(\n",
      "/Users/oscaryoungman/opt/anaconda3/lib/python3.9/site-packages/sklearn/base.py:484: FutureWarning: `BaseEstimator._check_n_features` is deprecated in 1.6 and will be removed in 1.7. Use `sklearn.utils.validation._check_n_features` instead.\n",
      "  warnings.warn(\n",
      "/Users/oscaryoungman/opt/anaconda3/lib/python3.9/site-packages/sklearn/base.py:493: FutureWarning: `BaseEstimator._check_feature_names` is deprecated in 1.6 and will be removed in 1.7. Use `sklearn.utils.validation._check_feature_names` instead.\n",
      "  warnings.warn(\n",
      "/Users/oscaryoungman/opt/anaconda3/lib/python3.9/site-packages/sklearn/base.py:474: FutureWarning: `BaseEstimator._validate_data` is deprecated in 1.6 and will be removed in 1.7. Use `sklearn.utils.validation.validate_data` instead. This function becomes public and is part of the scikit-learn developer API.\n",
      "  warnings.warn(\n"
     ]
    }
   ],
   "source": [
    "OS = RandomOverSampler(random_state=1112)\n",
    "X_train_e_over, y_train_over = OS.fit_resample(X_train_e, y_train)\n",
    "\n",
    "SMTE = SMOTE(random_state=1112)\n",
    "X_train_e_smote, y_train_smote = SMTE.fit_resample(X_train_e, y_train)"
   ]
  },
  {
   "metadata": {},
   "cell_type": "markdown",
   "source": [
    "# Model Fitting and Tuning\n",
    "\n",
    "### Logistic Regression\n",
    "The performance of the logistic regression model is very poor with the relatively high recall rate of nearly 70% coming at the cost of extremely low precision of around 1.3%. This is made clear by the precision-recall curve, which shows performance which rapidly drops to the chance level. The poor performance of the model is likely due to overreliance on oversampling methods to improve the performance of the data on the small minority class of defaulters, and to the inflexibility of the model.\n",
    "Comment on excluding Linear SVM due to poor performance of LogReg"
   ],
   "id": "3f0a1461cad6f31f"
  },
  {
   "metadata": {},
   "cell_type": "markdown",
   "source": [
    "\n",
    "### Non-Linear SVM\n",
    "\n",
    "Try sparse input to deal with training time. If not, consider bagging. Experiment with poly, rbf, sigmoid, cosine and fine tune parameters.\n",
    "Adapt loss function in GridSearch"
   ],
   "id": "d7177e2865cc4a0f"
  },
  {
   "metadata": {},
   "cell_type": "code",
   "outputs": [
    {
     "data": {
      "image/png": "[encoded data removed]",
      "text/plain": [
       "<Figure size 640x400 with 2 Axes>"
      ]
     },
     "metadata": {
      "needs_background": "light"
     },
     "output_type": "display_data"
    },
    {
     "name": "stderr",
     "output_type": "stream",
     "text": [
      "/Users/oscaryoungman/opt/anaconda3/lib/python3.9/site-packages/sklearn/linear_model/_logistic.py:465: ConvergenceWarning: lbfgs failed to converge (status=1):\n",
      "STOP: TOTAL NO. of ITERATIONS REACHED LIMIT.\n",
      "\n",
      "Increase the number of iterations (max_iter) or scale the data as shown in:\n",
      "    https://scikit-learn.org/stable/modules/preprocessing.html\n",
      "Please also refer to the documentation for alternative solver options:\n",
      "    https://scikit-learn.org/stable/modules/linear_model.html#logistic-regression\n",
      "  n_iter_i = _check_optimize_result(\n"
     ]
    },
    {
     "data": {
      "image/png": "[encoded data removed]",
      "text/plain": [
       "<Figure size 640x400 with 2 Axes>"
      ]
     },
     "metadata": {
      "needs_background": "light"
     },
     "output_type": "display_data"
    },
    {
     "data": {
      "image/png": "[encoded data removed]",
      "text/plain": [
       "<Figure size 640x640 with 1 Axes>"
      ]
     },
     "metadata": {
      "needs_background": "light"
     },
     "output_type": "display_data"
    },
    {
     "name": "stderr",
     "output_type": "stream",
     "text": [
      "/Users/oscaryoungman/opt/anaconda3/lib/python3.9/site-packages/sklearn/linear_model/_logistic.py:465: ConvergenceWarning: lbfgs failed to converge (status=1):\n",
      "STOP: TOTAL NO. of ITERATIONS REACHED LIMIT.\n",
      "\n",
      "Increase the number of iterations (max_iter) or scale the data as shown in:\n",
      "    https://scikit-learn.org/stable/modules/preprocessing.html\n",
      "Please also refer to the documentation for alternative solver options:\n",
      "    https://scikit-learn.org/stable/modules/linear_model.html#logistic-regression\n",
      "  n_iter_i = _check_optimize_result(\n"
     ]
    },
    {
     "data": {
      "image/png": "[encoded data removed]",
      "text/plain": [
       "<Figure size 640x400 with 2 Axes>"
      ]
     },
     "metadata": {
      "needs_background": "light"
     },
     "output_type": "display_data"
    }
   ],
   "execution_count": 20,
   "source": [
    "# Logistic regression Pipeline\n",
    "log_pipe = make_pipeline(\n",
    "    LogisticRegression(random_state=42, penalty=None)\n",
    ")\n",
    "X_test_e = ct.transform(X_test)\n",
    "# Fit the model using the training data\n",
    "log_pipe = log_pipe.fit(X_train_e, y_train)\n",
    "ConfusionMatrixDisplay.from_estimator(log_pipe, X_test_e, y_test)\n",
    "plt.show()\n",
    "\n",
    "# Fit the model using the over-sampled training data\n",
    "log_over = log_pipe.fit(X_train_e_over, y_train_over)\n",
    "ConfusionMatrixDisplay.from_estimator(log_over, X_test_e, y_test)\n",
    "plt.show()\n",
    "\n",
    "# Plot the precision-recall curve with inverted labels\n",
    "\n",
    "model_inverted = log_pipe.fit(X_test_e,1- y_test)\n",
    "fig2, ax2 = plt.subplots(figsize=(8,8))\n",
    "PrecisionRecallDisplay.from_estimator(model_inverted, X_test_e, 1- y_test, plot_chance_level=True, ax=ax2)\n",
    "plt.show()\n",
    "\n",
    "# Fit the model using the SMOTE training data\n",
    "log_smote = log_pipe.fit(X_train_e_smote, y_train_smote)\n",
    "ConfusionMatrixDisplay.from_estimator(log_smote, X_test_e, y_test)\n",
    "plt.show()\n"
   ],
   "id": "b97e746b"
  },
  {
   "cell_type": "code",
   "execution_count": null,
   "id": "98e6346b",
   "metadata": {},
   "outputs": [],
   "source": [
    "# Logistic regression Pipeline\n",
    "log_pipe = make_pipeline(\n",
    "    LogisticRegression(random_state=42, penalty=None)\n",
    ")\n",
    "\n",
    "# Fit the model using the training data\n",
    "log_pipe = log_pipe.fit(X_train_e, y_train)\n",
    "ConfusionMatrixDisplay.from_estimator(log_pipe, X_test_e, y_test)\n",
    "plt.show()\n",
    "\n",
    "# Fit the model using the over-sampled training data\n",
    "log_over = log_pipe.fit(X_train_e_over, y_train_over)\n",
    "ConfusionMatrixDisplay.from_estimator(log_over, X_test_e, y_test)\n",
    "plt.show()\n",
    "\n",
    "# Plot the precision-recall curve with inverted labels\n",
    "\n",
    "model_inverted = log_pipe.fit(X_test_e,1- y_test)\n",
    "fig2, ax2 = plt.subplots(figsize=(8,8))\n",
    "PrecisionRecallDisplay.from_estimator(model_inverted, X_test_e, 1- y_test, plot_chance_level=True, ax=ax2)\n",
    "plt.show()\n",
    "\n",
    "# Fit the model using the SMOTE training data\n",
    "log_smote = log_pipe.fit(X_train_e_smote, y_train_smote)\n",
    "ConfusionMatrixDisplay.from_estimator(log_smote, X_test_e, y_test)\n",
    "plt.show()"
   ]
  },
  {
   "metadata": {},
   "cell_type": "markdown",
   "source": [
    "### Random Forests\n",
    "Look through Ashe's work and integrate.\n",
    "Feature Importance"
   ],
   "id": "c5bdb1d997eaa47d"
  },
  {
   "cell_type": "markdown",
   "id": "db68164acc79f26d",
   "metadata": {},
   "source": [
    "\n",
    "### Neural Networks\n",
    "\n",
    "We now consider neural network models. First starting with a simple baseline,\n"
   ]
  },
  {
   "cell_type": "code",
   "execution_count": null,
   "id": "875a29e98b470c15",
   "metadata": {
    "ExecuteTime": {
     "end_time": "2025-04-14T12:40:07.737224Z",
     "start_time": "2025-04-14T12:38:22.299684Z"
    }
   },
   "outputs": [],
   "source": [
    "input_shape = int(X_train_e.shape[1])\n",
    "\n",
    "nn_model_base = keras.models.Sequential([\n",
    "    keras.layers.Input((input_shape,)),\n",
    "    keras.layers.Dense(100, activation='relu'),\n",
    "    keras.layers.Dense(1, activation='sigmoid')\n",
    "])\n",
    "\n",
    "nn_model_base.compile(loss='binary_crossentropy', metrics=['accuracy'])\n",
    "history_base = nn_model_base.fit(X_train_e_smote, y_train_smote, epochs=10, validation_split=0.2)"
   ]
  },
  {
   "cell_type": "code",
   "execution_count": null,
   "id": "7834a3ab3437c339",
   "metadata": {
    "ExecuteTime": {
     "end_time": "2025-04-14T12:40:27.287865Z",
     "start_time": "2025-04-14T12:40:13.007472Z"
    }
   },
   "outputs": [],
   "source": [
    "data_pairs = [(X_train_e, y_train),\n",
    "              (X_train_e_over, y_train_over),\n",
    "              (X_train_e_smote, y_train_smote),\n",
    "              (X_val_e, y_val)]\n",
    "\n",
    "data_pair_labels = [\"Training data\", \"Oversampling data\", \"SMOTE data\", \"Validation data\"]\n",
    "\n",
    "produce_scoring(nn_model_base, data_pairs, data_pair_labels, threshold=0.5)"
   ]
  },
  {
   "cell_type": "code",
   "execution_count": null,
   "id": "572aab5f58bdac81",
   "metadata": {
    "ExecuteTime": {
     "end_time": "2025-04-14T12:40:47.257056Z",
     "start_time": "2025-04-14T12:40:32.920378Z"
    }
   },
   "outputs": [],
   "source": [
    "produce_scoring(nn_model_base, data_pairs, data_pair_labels, threshold=0.8)"
   ]
  },
  {
   "cell_type": "markdown",
   "id": "7697eef9f486c84a",
   "metadata": {},
   "source": [
    "We can see based on the above that with a higher threshold for choosing the binary label from the probabilities provides better recall for observations within the recall class. This seems to suggest saturation within the neural network. Quickly checking the distributions of the attributes of X_train_e_smote we can see why this is likely, with lots of values within the numerical data columns lie far outside the interval of 0 to 1 (as our output is between 0 and 1 this is problematic). Hence, we carry out min-max scaling."
   ]
  },
  {
   "cell_type": "code",
   "execution_count": null,
   "id": "f2f0d3299d391c00",
   "metadata": {
    "ExecuteTime": {
     "end_time": "2025-04-14T12:41:31.358527Z",
     "start_time": "2025-04-14T12:41:31.219104Z"
    }
   },
   "outputs": [],
   "source": [
    "# Fitting scaler.\n",
    "min_max_scaler = MinMaxScaler()\n",
    "min_max_scaler.fit(X_train_e)\n",
    "\n",
    "# Transforming our datasets.\n",
    "X_train_e_nn = min_max_scaler.transform(X_train_e)\n",
    "X_val_e_nn = min_max_scaler.transform(X_val_e)\n",
    "X_train_e_smote_nn = min_max_scaler.transform(X_train_e_smote)\n",
    "X_train_e_over_nn = min_max_scaler.transform(X_train_e_over)\n",
    "\n",
    "data_pairs_nn = [(X_train_e_nn, y_train),\n",
    "              (X_train_e_over_nn, y_train_over),\n",
    "              (X_train_e_smote_nn, y_train_smote),\n",
    "              (X_val_e_nn, y_val)]"
   ]
  },
  {
   "cell_type": "code",
   "execution_count": null,
   "id": "e1d93470116a9abd",
   "metadata": {
    "ExecuteTime": {
     "end_time": "2025-04-14T12:43:27.065935Z",
     "start_time": "2025-04-14T12:41:44.086042Z"
    }
   },
   "outputs": [],
   "source": [
    "nn_model_base_mm = keras.models.Sequential([\n",
    "    keras.layers.Input((input_shape,)),\n",
    "    keras.layers.Dense(100, activation='relu'),\n",
    "    keras.layers.Dense(1, activation='sigmoid')\n",
    "])\n",
    "\n",
    "nn_model_base_mm.compile(loss='binary_crossentropy', metrics=['accuracy'])\n",
    "history_base_mm = nn_model_base_mm.fit(X_train_e_smote_nn, y_train_smote, epochs=10, validation_split=0.2)"
   ]
  },
  {
   "cell_type": "code",
   "execution_count": null,
   "id": "e08c30a446a75bda",
   "metadata": {
    "ExecuteTime": {
     "end_time": "2025-04-14T12:44:23.208315Z",
     "start_time": "2025-04-14T12:44:08.692787Z"
    }
   },
   "outputs": [],
   "source": [
    "produce_scoring(nn_model_base_mm, data_pairs_nn, data_pair_labels, threshold=0.5)"
   ]
  },
  {
   "cell_type": "markdown",
   "id": "e505851ebf0ae324",
   "metadata": {},
   "source": [
    "We see improvements on the validation set although this model now performs worse on the over set used to train. In order to further mitigate saturation we carry out the following:\n",
    "\n",
    " - **Batch Normalisation** (for each layer) - As our input and output values are within the range of 0 to 1, ideally our weights should be restricted to this interval. (_link paper that validates this is the correct approach_) Hence after each layer we normalise the weights. \n",
    "  - **He Normal initialization** - This set the initial values of each layer of weights to normal in distribution with some fixed variance (in the instance of this initialisation it is dependant on the number of neurons in the layer before the set of weights), this helps to mitigage exploding gradients and staturation (_link Glorot and Bengio paper_).\n",
    "  - **Elu activation function** - This activation function is similar to standard ReLu although instead of flattening out to 0 when x is negative, it returns a negative value (closer to -1 as x tends to negative infinity), this helps to keep the layer values in a distribution with mean 0."
   ]
  },
  {
   "cell_type": "code",
   "execution_count": null,
   "id": "9b0cb43711a7bdc9",
   "metadata": {
    "ExecuteTime": {
     "end_time": "2025-04-14T12:49:23.652688Z",
     "start_time": "2025-04-14T12:47:35.828777Z"
    }
   },
   "outputs": [],
   "source": [
    "nn_model_norm = keras.models.Sequential([\n",
    "    keras.layers.Input((input_shape,)),\n",
    "    keras.layers.BatchNormalization(),\n",
    "    keras.layers.Activation('elu'),\n",
    "    keras.layers.Dense(100, activation=None, kernel_initializer='he_normal'),\n",
    "    keras.layers.BatchNormalization(),\n",
    "    keras.layers.Dense(1, activation='sigmoid')\n",
    "])\n",
    "\n",
    "nn_model_norm.compile(loss='binary_crossentropy', metrics=['accuracy'])\n",
    "history_norm = nn_model_norm.fit(X_train_e_smote_nn, y_train_smote, epochs=10, validation_split=0.2)"
   ]
  },
  {
   "cell_type": "code",
   "execution_count": null,
   "id": "441e78099c0cdd5f",
   "metadata": {
    "ExecuteTime": {
     "end_time": "2025-04-14T12:49:46.602910Z",
     "start_time": "2025-04-14T12:49:28.147558Z"
    }
   },
   "outputs": [],
   "source": [
    "produce_scoring(nn_model_norm, data_pairs_nn, data_pair_labels, threshold=0.5)"
   ]
  },
  {
   "cell_type": "markdown",
   "id": "91dbfdc04f9d922",
   "metadata": {},
   "source": [
    "Now we run into a completely different issue, this model is heavily in favour of labelling samples as defaulting. This can be mitigated through the use of a different loss function, particular one that heavily penalises classifying those who don't default as default, a binary focal cross entropy loss function."
   ]
  },
  {
   "cell_type": "code",
   "execution_count": null,
   "id": "d8cf4fc26190c1f8",
   "metadata": {
    "ExecuteTime": {
     "end_time": "2025-04-14T13:48:41.190188Z",
     "start_time": "2025-04-14T13:45:20.035077Z"
    }
   },
   "outputs": [],
   "source": [
    "nn_model_deep = keras.models.Sequential([\n",
    "    keras.layers.Input((input_shape,)),\n",
    "    keras.layers.BatchNormalization(),\n",
    "    keras.layers.Activation('elu'),\n",
    "    keras.layers.Dense(50, activation=None, kernel_initializer='he_normal'),\n",
    "    keras.layers.BatchNormalization(),\n",
    "    keras.layers.Activation('elu'),\n",
    "    keras.layers.Dense(80, activation=None, kernel_initializer='he_normal'),\n",
    "    keras.layers.BatchNormalization(),\n",
    "    keras.layers.Activation('elu'),\n",
    "    keras.layers.Dense(80, activation=None, kernel_initializer='he_normal'),\n",
    "    keras.layers.BatchNormalization(),\n",
    "    keras.layers.Activation('elu'),\n",
    "    keras.layers.Dense(80, activation=None, kernel_initializer='he_normal'),\n",
    "    keras.layers.BatchNormalization(),\n",
    "    keras.layers.Activation('elu'),\n",
    "    keras.layers.Dense(80, activation=None, kernel_initializer='he_normal'),\n",
    "    keras.layers.BatchNormalization(),\n",
    "    keras.layers.Activation('elu'),\n",
    "    keras.layers.Dense(80, activation=None, kernel_initializer='he_normal'),\n",
    "    keras.layers.BatchNormalization(),\n",
    "    keras.layers.Activation('elu'),\n",
    "    keras.layers.Dense(50, activation=None, kernel_initializer='he_normal'),\n",
    "    keras.layers.BatchNormalization(),\n",
    "    keras.layers.Dense(1, activation='sigmoid')\n",
    "])\n",
    "\n",
    "loss_func = keras.losses.BinaryFocalCrossentropy(alpha=0.25, label_smoothing=0.2)\n",
    "nn_model_deep.compile(loss=loss_func, optimizer=\"adam\", metrics=['accuracy'])\n",
    "history_deep = nn_model_deep.fit(X_train_e_smote_nn, y_train_smote, epochs=20, validation_split=0.2)"
   ]
  },
  {
   "cell_type": "code",
   "execution_count": null,
   "id": "8fc45b4fbe2301ed",
   "metadata": {
    "ExecuteTime": {
     "end_time": "2025-04-14T13:49:13.588380Z",
     "start_time": "2025-04-14T13:49:03.199891Z"
    }
   },
   "outputs": [],
   "source": [
    "produce_scoring(nn_model_deep, data_pairs_nn, data_pair_labels, threshold=0.9)"
   ]
  },
  {
   "cell_type": "code",
   "execution_count": null,
   "id": "3c827b2fbc834304",
   "metadata": {
    "ExecuteTime": {
     "end_time": "2025-04-14T13:14:58.555980Z",
     "start_time": "2025-04-14T13:13:44.977868Z"
    }
   },
   "outputs": [],
   "source": [
    "from sklearn.ensemble import RandomForestClassifier\n",
    "from sklearn.model_selection import GridSearchCV\n",
    "\n",
    "param_grid = {\n",
    "    'max_depth': [2,4,6],\n",
    "    'ccp_alpha': [0.003, 0.005, 0.01]\n",
    "}\n",
    "\n",
    "rf = RandomForestClassifier(random_state=1112, n_estimators=100)\n",
    "\n",
    "\n",
    "rf_cv = GridSearchCV(\n",
    "    estimator=rf,\n",
    "    param_grid=param_grid,\n",
    "    cv=3,\n",
    "    n_jobs=-1,\n",
    "    verbose=3,\n",
    "    scoring='f1',\n",
    "    return_train_score=True\n",
    ")\n",
    "\n",
    "rf_cv.fit(X_train_e_smote, y_train_smote)\n",
    "\n",
    "print(\"Best parameters:\", rf_cv.best_params_)\n",
    "print(\"Best cross-validated score:\", rf_cv.best_score_)"
   ]
  },
  {
   "cell_type": "code",
   "execution_count": null,
   "id": "79c112d5612f06ee",
   "metadata": {
    "ExecuteTime": {
     "end_time": "2025-04-14T13:19:24.713281Z",
     "start_time": "2025-04-14T13:19:14.958858Z"
    }
   },
   "outputs": [],
   "source": [
    "rf_model = RandomForestClassifier(max_depth=3, random_state=1112, n_estimators=100).fit(X_train_e_smote, y_train_smote)\n",
    "y_pred_rf = rf_model.predict(X_val_e)\n",
    "confusion_matrix(y_val, y_pred_rf)"
   ]
  },
  {
   "cell_type": "code",
   "execution_count": null,
   "id": "956131940057ffbc",
   "metadata": {
    "ExecuteTime": {
     "end_time": "2025-04-14T13:26:40.328540Z",
     "start_time": "2025-04-14T13:26:39.784667Z"
    }
   },
   "outputs": [],
   "source": [
    "y_pred_nn = nn_model_deep.predict(X_val_e)\n",
    "y_pred_rf = rf_model.predict_proba(X_val_e)"
   ]
  },
  {
   "cell_type": "code",
   "execution_count": null,
   "id": "4a09ef03cd4586e5",
   "metadata": {
    "ExecuteTime": {
     "end_time": "2025-04-14T13:29:37.585696Z",
     "start_time": "2025-04-14T13:29:37.570740Z"
    }
   },
   "outputs": [],
   "source": [
    "(y_pred_nn[:,0]).dot(y_pred_rf[:,1])/(np.linalg.norm(y_pred_nn[:,0])*np.linalg.norm(y_pred_rf[:,1]))\n",
    "            "
   ]
  },
  {
   "cell_type": "code",
   "execution_count": null,
   "id": "f74758e9ebd4cbe0",
   "metadata": {
    "ExecuteTime": {
     "end_time": "2025-04-14T13:28:00.973638Z",
     "start_time": "2025-04-14T13:28:00.961172Z"
    }
   },
   "outputs": [],
   "source": []
  },
  {
   "cell_type": "markdown",
   "id": "842b9a3cc3720010",
   "metadata": {},
   "source": [
    "\n",
    "\n",
    "\n",
    "### Final Model\n",
    "Discussion and Results of final choices"
   ]
  },
  {
   "cell_type": "code",
   "execution_count": null,
   "id": "aaecebe6d12e8347",
   "metadata": {
    "ExecuteTime": {
     "end_time": "2025-04-14T11:00:06.783300Z",
     "start_time": "2025-04-14T11:00:06.767213Z"
    }
   },
   "outputs": [],
   "source": [
    "y_pred_nn = np.random.uniform(size=1000, low=0, high=1)\n",
    "y_pred_rf = np.random.uniform(size=1000, low=0, high=1)\n",
    "y_true = np.random.uniform(size=1000, low=0, high=1)"
   ]
  },
  {
   "cell_type": "code",
   "execution_count": null,
   "id": "843546c6cd61a69a",
   "metadata": {
    "ExecuteTime": {
     "end_time": "2025-04-14T13:25:59.832585Z",
     "start_time": "2025-04-14T13:25:59.802858Z"
    }
   },
   "outputs": [],
   "source": []
  },
  {
   "cell_type": "markdown",
   "id": "7bc9fe39",
   "metadata": {},
   "source": [
    "\n",
    "### Active Loans\n",
    "Bank rating\n",
    "Heatmap of location risk\n",
    "\n"
   ]
  },
  {
   "cell_type": "markdown",
   "id": "308a9c84",
   "metadata": {},
   "source": [
    "# Discussion & Conclusions\n",
    "\n",
    "*In this section you should provide a general overview of your final model, its performance, and reliability. You should discuss what the implications of your model are in terms of the included features, estimated parameters and relationships, predictive performance, and anything else you think is relevant.*\n",
    "\n",
    "*This should be written with a target audience of a banking official, who is understands the issues associated with mortgage defaults but may only have university level mathematics (not necessarily postgraduate statistics or machine learning). Your goal should be to highlight to this audience how your model can useful. You should also discuss potential limitations or directions of future improvement of your model.*\n",
    "\n",
    "*Finally, you should include recommendations on factors that may increase the risk of default, which may be useful for the companies to improve their understanding of\n",
    "mortgage defaults, and also to explain their decisions to clients and regulatory bodies. You should also use your model to inform the company of any active loans that are at risk of default.*\n",
    "\n",
    "*Keep in mind that a negative result, i.e. a model that does not work well predictively, that is well explained and justified in terms of why it failed will likely receive higher marks than a model with strong predictive performance but with poor or incorrect explinations / justifications.*"
   ]
  },
  {
   "cell_type": "markdown",
   "id": "ebb8539f",
   "metadata": {},
   "source": [
    "# Generative AI statement\n",
    "\n",
    "*Include a statement on how generative AI was used in the project and report.*"
   ]
  },
  {
   "cell_type": "markdown",
   "id": "09db6349",
   "metadata": {},
   "source": [
    "# References\n",
    "\n",
    "*Include references if any*"
   ]
  },
  {
   "cell_type": "code",
   "execution_count": null,
   "id": "0e3625a7",
   "metadata": {},
   "outputs": [],
   "source": [
    "# Run the following to render to PDF\n",
    "!jupyter nbconvert --to pdf project2.ipynb"
   ]
  }
 ],
 "metadata": {
  "kernelspec": {
   "display_name": "base",
   "language": "python",
   "name": "python3"
  },
  "language_info": {
   "codemirror_mode": {
    "name": "ipython",
    "version": 3
   },
   "file_extension": ".py",
   "mimetype": "text/x-python",
   "name": "python",
   "nbconvert_exporter": "python",
   "pygments_lexer": "ipython3",
   "version": "3.9.7"
  }
 },
 "nbformat": 4,
 "nbformat_minor": 5
}
